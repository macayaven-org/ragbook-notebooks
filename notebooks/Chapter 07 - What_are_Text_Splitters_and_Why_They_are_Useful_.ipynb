{
  "cells": [
    {
      "cell_type": "markdown",
      "metadata": {
        "colab_type": "text",
        "id": "view-in-github"
      },
      "source": [
        "<a href=\"https://colab.research.google.com/github/towardsai/ragbook-notebooks/blob/main/notebooks/Chapter%2007%20-%20What_are_Text_Splitters_and_Why_They_are_Useful_.ipynb\" target=\"_parent\"><img src=\"https://colab.research.google.com/assets/colab-badge.svg\" alt=\"Open In Colab\"/></a>"
      ]
    },
    {
      "cell_type": "code",
      "execution_count": null,
      "metadata": {
        "colab": {
          "base_uri": "https://localhost:8080/"
        },
        "id": "JRhvwNoLQr1l",
        "outputId": "d33e5bc9-bf03-4707-96d8-3988f468b8d1"
      },
      "outputs": [
        {
          "name": "stdout",
          "output_type": "stream",
          "text": [
            "\u001b[2K     \u001b[90m━━━━━━━━━━━━━━━━━━━━━━━━━━━━━━━━━━━━━━━━\u001b[0m \u001b[32m1.1/1.1 MB\u001b[0m \u001b[31m6.3 MB/s\u001b[0m eta \u001b[36m0:00:00\u001b[0m\n",
            "\u001b[2K     \u001b[90m━━━━━━━━━━━━━━━━━━━━━━━━━━━━━━━━━━━━━━━━\u001b[0m \u001b[32m1.7/1.7 MB\u001b[0m \u001b[31m10.1 MB/s\u001b[0m eta \u001b[36m0:00:00\u001b[0m\n",
            "\u001b[2K     \u001b[90m━━━━━━━━━━━━━━━━━━━━━━━━━━━━━━━━━━━━━━\u001b[0m \u001b[32m256.1/256.1 kB\u001b[0m \u001b[31m11.1 MB/s\u001b[0m eta \u001b[36m0:00:00\u001b[0m\n",
            "\u001b[2K     \u001b[90m━━━━━━━━━━━━━━━━━━━━━━━━━━━━━━━━━━━━━━━━\u001b[0m \u001b[32m90.0/90.0 kB\u001b[0m \u001b[31m3.8 MB/s\u001b[0m eta \u001b[36m0:00:00\u001b[0m\n",
            "\u001b[2K     \u001b[90m━━━━━━━━━━━━━━━━━━━━━━━━━━━━━━━━━━━━━━━━\u001b[0m \u001b[32m49.4/49.4 kB\u001b[0m \u001b[31m2.1 MB/s\u001b[0m eta \u001b[36m0:00:00\u001b[0m\n",
            "\u001b[?25h"
          ]
        }
      ],
      "source": [
        "!pip install -q langchain==0.0.208 tiktoken pypdf"
      ]
    },
    {
      "cell_type": "code",
      "execution_count": 1,
      "metadata": {
        "colab": {
          "base_uri": "https://localhost:8080/"
        },
        "id": "VxeKBo6x55sQ",
        "outputId": "4e6575be-79da-487f-cbee-f704026f6877"
      },
      "outputs": [
        {
          "name": "stdout",
          "output_type": "stream",
          "text": [
            "--2024-08-18 23:20:01--  https://www.cheat-sheets.org/saved-copy/The%20One%20Page%20Linux%20Manual.pdf\n",
            "Resolving www.cheat-sheets.org (www.cheat-sheets.org)... 90.156.201.26, 90.156.201.79, 90.156.201.28, ...\n",
            "Connecting to www.cheat-sheets.org (www.cheat-sheets.org)|90.156.201.26|:443... connected.\n",
            "HTTP request sent, awaiting response... 200 OK\n",
            "Length: 96538 (94K) [application/pdf]\n",
            "Saving to: ‘The One Page Linux Manual.pdf’\n",
            "\n",
            "The One Page Linux  100%[===================>]  94.28K   315KB/s    in 0.3s    \n",
            "\n",
            "2024-08-18 23:20:04 (315 KB/s) - ‘The One Page Linux Manual.pdf’ saved [96538/96538]\n",
            "\n"
          ]
        }
      ],
      "source": [
        "!wget https://www.cheat-sheets.org/saved-copy/The%20One%20Page%20Linux%20Manual.pdf"
      ]
    },
    {
      "cell_type": "code",
      "execution_count": 1,
      "metadata": {
        "id": "yCN2p_HlQuSX"
      },
      "outputs": [],
      "source": [
        "from langchain_community.document_loaders import PyPDFLoader\n",
        "loader = PyPDFLoader(\"The One Page Linux Manual.pdf\")\n",
        "pages = loader.load_and_split()"
      ]
    },
    {
      "cell_type": "code",
      "execution_count": 2,
      "metadata": {},
      "outputs": [
        {
          "name": "stdout",
          "output_type": "stream",
          "text": [
            "/home/carlos/anaconda3/envs/ragbook/bin/python\n",
            "['/home/carlos/workspace/ragbook-notebooks/notebooks', '/home/carlos/anaconda3/envs/ragbook/lib/python312.zip', '/home/carlos/anaconda3/envs/ragbook/lib/python3.12', '/home/carlos/anaconda3/envs/ragbook/lib/python3.12/lib-dynload', '', '/home/carlos/anaconda3/envs/ragbook/lib/python3.12/site-packages', '/home/carlos/anaconda3/envs/ragbook/lib/python3.12/site-packages/setuptools/_vendor']\n"
          ]
        }
      ],
      "source": [
        "import sys\n",
        "print(sys.executable)\n",
        "print(sys.path)"
      ]
    },
    {
      "cell_type": "code",
      "execution_count": 3,
      "metadata": {
        "colab": {
          "base_uri": "https://localhost:8080/"
        },
        "id": "mW9ujW6KQ5ma",
        "outputId": "42e6a7c8-2926-432f-f726-336171737cf9"
      },
      "outputs": [
        {
          "name": "stdout",
          "output_type": "stream",
          "text": [
            "page_content='THE ONE     PAGE LINUX MANUALA summary of useful Linux commands\n",
            "Version 3.0 May 1999 squadron@powerup.com.au\n",
            "Starting & Stopping\n",
            "shutdown -h now Shutdown the system now and do not\n",
            "reboot\n",
            "halt Stop all processes - same as above\n",
            "shutdown -r 5 Shutdown the system in 5 minutes and\n",
            "reboot\n",
            "shutdown -r now Shutdown the system now and reboot\n",
            "reboot Stop all processes and then reboot - same\n",
            "as above\n",
            "startx Start the X system\n",
            "Accessing & mounting file systems\n",
            "mount -t iso9660 /dev/cdrom\n",
            "/mnt/cdromMount the device cdrom\n",
            "and call it cdrom under the\n",
            "/mnt directory\n",
            "mount -t msdos /dev/hdd\n",
            "/mnt/ddriveMount hard disk “d” as a\n",
            "msdos file system and call\n",
            "it ddrive under the /mnt\n",
            "directory\n",
            "mount -t vfat /dev/hda1\n",
            "/mnt/cdriveMount hard disk “a” as a\n",
            "VFAT file system and call it\n",
            "cdrive under the /mnt\n",
            "directory\n",
            "umount /mnt/cdrom Unmount the cdrom\n",
            "Finding files and text within files\n",
            "find / -name  fname Starting with the root directory, look\n",
            "for the file called fname\n",
            "find / -name ”*fname* ” Starting with the root directory, look\n",
            "for the file containing the string fname\n",
            "locate missingfilename Find a file called missingfilename\n",
            "using the locate command - this\n",
            "assumes you have already used the\n",
            "command updatedb (see next)\n",
            "updatedb Create or update the database of files\n",
            "on all file systems attached to the linux\n",
            "root directory\n",
            "which missingfilename Show the subdirectory containing the\n",
            "executable file  called missingfilename\n",
            "grep textstringtofind\n",
            "/dirStarting with the directory called dir ,\n",
            "look for and list all files containing\n",
            "textstringtofind\n",
            "The X Window System\n",
            "xvidtune Run the X graphics tuning utility\n",
            "XF86Setup Run the X configuration menu with\n",
            "automatic probing of graphics cards\n",
            "Xconfigurator Run another X configuration menu with\n",
            "automatic probing of graphics cards\n",
            "xf86config Run a text based X configuration menu\n",
            "Moving, copying, deleting & viewing files\n",
            "ls -l List files in current directory using\n",
            "long format\n",
            "ls -F List files in current directory and\n",
            "indicate the file type\n",
            "ls -laC List all files in current directory in\n",
            "long format and display in columnsrm name Remove a file or directory called\n",
            "name\n",
            "rm -rf name Kill off an entire directory and all it’s\n",
            "includes files and subdirectories\n",
            "cp filename\n",
            "/home/dirnameCopy the file called filename to the\n",
            "/home/dirname directory\n",
            "mv filename\n",
            "/home/dirnameMove the file called filename to the\n",
            "/home/dirname directory\n",
            "cat filetoview Display the file called filetoview\n",
            "man -k keyword Display man pages containing\n",
            "keyword\n",
            "more filetoview Display the file called filetoview one\n",
            "page at a time, proceed to next page\n",
            "using the spacebar\n",
            "head filetoview Display the first 10 lines of the file\n",
            "called filetoview\n",
            "head -20 filetoview Display the first 20 lines of the file\n",
            "called filetoview\n",
            "tail filetoview Display the last 10 lines of the file\n",
            "called filetoview\n",
            "tail -20 filetoview Display the last 20 lines of the file\n",
            "called filetoview\n",
            "Installing software for Linux\n",
            "rpm -ihv name.rpm Install the rpm package called name\n",
            "rpm -Uhv name.rpm Upgrade the rpm package called\n",
            "name\n",
            "rpm -e package Delete the rpm package called\n",
            "package\n",
            "rpm -l package List the files in the package called\n",
            "package\n",
            "rpm -ql package List the files and state the installed\n",
            "version of the package called\n",
            "package\n",
            "rpm -i --force package Reinstall the rpm package called\n",
            "name having deleted parts of it (not\n",
            "deleting using rpm -e)\n",
            "tar -zxvf archive.tar.gz or\n",
            "tar -zxvf archive.tgzDecompress the files contained in\n",
            "the zipped and tarred archive called\n",
            "archive\n",
            "./configure Execute the script preparing the\n",
            "installed files for compiling\n",
            "User Administration\n",
            "adduser accountname Create a new user call accountname\n",
            "passwd accountname Give accountname a new password\n",
            "su Log in as superuser from current login\n",
            "exit Stop being superuser and revert to\n",
            "normal user\n",
            "Little known tips and tricks\n",
            "ifconfig List ip addresses for all devices on\n",
            "the machine\n",
            "apropos subject List manual pages for subject\n",
            "usermount Executes graphical application for\n",
            "mounting and unmounting file\n",
            "systems' metadata={'source': 'The One Page Linux Manual.pdf', 'page': 0}\n"
          ]
        }
      ],
      "source": [
        "from langchain_text_splitters.character import CharacterTextSplitter\n",
        "text_splitter = CharacterTextSplitter(chunk_size=1000, chunk_overlap=20)\n",
        "texts = text_splitter.split_documents(pages)\n",
        "\n",
        "print(texts[0])"
      ]
    },
    {
      "cell_type": "code",
      "execution_count": 4,
      "metadata": {
        "colab": {
          "base_uri": "https://localhost:8080/"
        },
        "id": "g5wpgZI0RKBJ",
        "outputId": "b44ee37c-9821-4d62-95f2-f07c0bc287d0"
      },
      "outputs": [
        {
          "name": "stdout",
          "output_type": "stream",
          "text": [
            "You have 2 documents\n"
          ]
        }
      ],
      "source": [
        "print (f\"You have {len(texts)} documents\")"
      ]
    },
    {
      "cell_type": "code",
      "execution_count": null,
      "metadata": {
        "colab": {
          "base_uri": "https://localhost:8080/"
        },
        "id": "Rw4Wzt7N7F7k",
        "outputId": "d3d8eb0e-ecd1-4731-8d3e-e758ba442c95"
      },
      "outputs": [
        {
          "name": "stdout",
          "output_type": "stream",
          "text": [
            "Preview:\n",
            "THE ONE     PAGE LINUX MANUALA summary of useful Linux commands\n",
            "Version 3.0 May 1999 squadron@powerup.com.au\n",
            "Starting & Stopping\n",
            "shutdown -h now Shutdown the system now and do not\n",
            "reboot\n",
            "halt Stop all processes - same as above\n",
            "shutdown -r 5 Shutdown the system in 5 minutes and\n",
            "reboot\n",
            "shutdown -r now Shutdown the system now and reboot\n",
            "reboot Stop all processes and then reboot - same\n",
            "as above\n",
            "startx Start the X system\n",
            "Accessing & mounting file systems\n",
            "mount -t iso9660 /dev/cdrom\n",
            "/mnt/cdromMount the device cdrom\n",
            "and call it cdrom under the\n",
            "/mnt directory\n",
            "mount -t msdos /dev/hdd\n",
            "/mnt/ddriveMount hard disk “d” as a\n",
            "msdos file system and call\n",
            "it ddrive under the /mnt\n",
            "directory\n",
            "mount -t vfat /dev/hda1\n",
            "/mnt/cdriveMount hard disk “a” as a\n",
            "VFAT file system and call it\n",
            "cdrive under the /mnt\n",
            "directory\n",
            "umount /mnt/cdrom Unmount the cdrom\n",
            "Finding files and text within files\n",
            "find / -name  fname Starting with the root directory, look\n",
            "for the file called fname\n",
            "find / -name ”*fname* ” Starting with the root directory, look\n",
            "for the file containing the string fname\n",
            "locate missingfilename Find a file called missingfilename\n",
            "using the locate command - this\n",
            "assumes you have already used the\n",
            "command updatedb (see next)\n",
            "updatedb Create or update the database of files\n",
            "on all file systems attached to the linux\n",
            "root directory\n",
            "which missingfilename Show the subdirectory containing the\n",
            "executable file  called missingfilename\n",
            "grep textstringtofind\n",
            "/dirStarting with the directory called dir ,\n",
            "look for and list all files containing\n",
            "textstringtofind\n",
            "The X Window System\n",
            "xvidtune Run the X graphics tuning utility\n",
            "XF86Setup Run the X configuration menu with\n",
            "automatic probing of graphics cards\n",
            "Xconfigurator Run another X configuration menu with\n",
            "automatic probing of graphics cards\n",
            "xf86config Run a text based X configuration menu\n",
            "Moving, copying, deleting & viewing files\n",
            "ls -l List files in current directory using\n",
            "long format\n",
            "ls -F List files in current directory and\n",
            "indicate the file type\n",
            "ls -laC List all files in current directory in\n",
            "long format and display in columnsrm name Remove a file or directory called\n",
            "name\n",
            "rm -rf name Kill off an entire directory and all it’s\n",
            "includes files and subdirectories\n",
            "cp filename\n",
            "/home/dirnameCopy the file called filename to the\n",
            "/home/dirname directory\n",
            "mv filename\n",
            "/home/dirnameMove the file called filename to the\n",
            "/home/dirname directory\n",
            "cat filetoview Display the file called filetoview\n",
            "man -k keyword Display man pages containing\n",
            "keyword\n",
            "more filetoview Display the file called filetoview one\n",
            "page at a time, proceed to next page\n",
            "using the spacebar\n",
            "head filetoview Display the first 10 lines of the file\n",
            "called filetoview\n",
            "head -20 filetoview Display the first 20 lines of the file\n",
            "called filetoview\n",
            "tail filetoview Display the last 10 lines of the file\n",
            "called filetoview\n",
            "tail -20 filetoview Display the last 20 lines of the file\n",
            "called filetoview\n",
            "Installing software for Linux\n",
            "rpm -ihv name.rpm Install the rpm package called name\n",
            "rpm -Uhv name.rpm Upgrade the rpm package called\n",
            "name\n",
            "rpm -e package Delete the rpm package called\n",
            "package\n",
            "rpm -l package List the files in the package called\n",
            "package\n",
            "rpm -ql package List the files and state the installed\n",
            "version of the package called\n",
            "package\n",
            "rpm -i --force package Reinstall the rpm package called\n",
            "name having deleted parts of it (not\n",
            "deleting using rpm -e)\n",
            "tar -zxvf archive.tar.gz or\n",
            "tar -zxvf archive.tgzDecompress the files contained in\n",
            "the zipped and tarred archive called\n",
            "archive\n",
            "./configure Execute the script preparing the\n",
            "installed files for compiling\n",
            "User Administration\n",
            "adduser accountname Create a new user call accountname\n",
            "passwd accountname Give accountname a new password\n",
            "su Log in as superuser from current login\n",
            "exit Stop being superuser and revert to\n",
            "normal user\n",
            "Little known tips and tricks\n",
            "ifconfig List ip addresses for all devices on\n",
            "the machine\n",
            "apropos subject List manual pages for subject\n",
            "usermount Executes graphical application for\n",
            "mounting and unmounting file\n",
            "systems\n"
          ]
        }
      ],
      "source": [
        "print (\"Preview:\")\n",
        "print (texts[0].page_content)"
      ]
    },
    {
      "cell_type": "markdown",
      "metadata": {
        "id": "LY72xoXgRo8n"
      },
      "source": [
        "#====="
      ]
    },
    {
      "cell_type": "code",
      "execution_count": 5,
      "metadata": {
        "id": "JVro99tsRtYH"
      },
      "outputs": [],
      "source": [
        "!echo \"Helllo, my name is Ala\\n Hello again\\n\\ntesting newline.\" > LLM.txt"
      ]
    },
    {
      "cell_type": "code",
      "execution_count": 21,
      "metadata": {
        "id": "_d131J86RLtb"
      },
      "outputs": [],
      "source": [
        "from langchain.text_splitter import RecursiveCharacterTextSplitter\n",
        "\n",
        "# Load a long document\n",
        "with open('LLM.txt', encoding= 'unicode_escape') as f:\n",
        "    sample_text = f.read()"
      ]
    },
    {
      "cell_type": "code",
      "execution_count": 22,
      "metadata": {},
      "outputs": [
        {
          "data": {
            "text/plain": [
              "\"Sure, here's a document about the New Wave movement:\\n\\n---\\n\\n# The New Wave Movement\\n\\n## Introduction\\n\\nThe New Wave movement, which emerged in the late 1970s and early 1980s, was a revolutionary period in music, film, and culture. It represented a departure from the traditional norms and embraced a more experimental and avant-garde approach. This document explores the origins, characteristics, and impact of the New Wave movement, focusing on its influence in music and film.\\n\\n## Origins of New Wave\\n\\n### Music\\n\\nNew Wave music originated as a subgenre of rock music, influenced by punk rock, electronic music, and pop. It was characterized by its eclectic mix of styles, use of synthesizers, and a focus on fashion and visual aesthetics. Bands like Talking Heads, Blondie, and Devo were at the forefront of this movement, blending punk's raw energy with a more polished and accessible sound.\\n\\n### Film\\n\\nIn cinema, the New Wave movement began in France in the late 1950s and early 1960s, known as the French New Wave (Nouvelle Vague). Directors like FranÃ§ois Truffaut, Jean-Luc Godard, and AgnÃ¨s Varda broke away from traditional filmmaking techniques, experimenting with narrative structures, editing, and visual style. This movement influenced filmmakers worldwide and paved the way for a more personal and artistic approach to cinema.\\n\\n## Characteristics of New Wave\\n\\n### Music\\n\\n1. **Eclectic Influences**: New Wave music drew from a wide range of genres, including punk, reggae, funk, and electronic music. This diversity created a unique and innovative sound.\\n2. **Synthesizers and Technology**: The use of synthesizers and electronic instruments was a hallmark of New Wave music. Bands like Depeche Mode and The Human League utilized these tools to create futuristic and catchy melodies.\\n3. **Fashion and Visuals**: New Wave artists often had a distinctive visual style, characterized by bold fashion choices, colorful clothing, and avant-garde music videos. This emphasis on aesthetics was integral to the movement's identity.\\n\\n### Film\\n\\n1. **Innovative Techniques**: New Wave filmmakers experimented with unconventional narrative structures, jump cuts, and handheld camera work. These techniques challenged traditional storytelling and created a more dynamic and engaging viewing experience.\\n2. **Personal Expression**: The New Wave movement emphasized personal and artistic expression. Filmmakers often drew from their own experiences and perspectives, resulting in more intimate and authentic films.\\n3. **Breaking Conventions**: New Wave cinema broke away from the constraints of mainstream filmmaking. Directors often worked with low budgets, non-professional actors, and improvised dialogue, creating a more raw and realistic portrayal of life.\\n\\n## Impact of New Wave\\n\\n### Music\\n\\nThe New Wave movement had a profound impact on the music industry. It paved the way for the rise of alternative and indie music, influencing countless artists and bands. The emphasis on synthesizers and electronic music also contributed to the development of genres like synth-pop and electronic dance music (EDM). New Wave's fusion of different styles and its focus on visual aesthetics continue to inspire musicians and artists today.\\n\\n### Film\\n\\nThe influence of the New Wave movement in cinema is still felt today. Its innovative techniques and emphasis on personal expression have inspired generations of filmmakers. The movement's legacy can be seen in the works of directors like Quentin Tarantino, Wes Anderson, and Sofia Coppola, who continue to push the boundaries of storytelling and visual style.\\n\\n## Conclusion\\n\\nThe New Wave movement was a transformative period in music and film, characterized by its experimental approach and departure from traditional norms. Its impact on culture and the arts is undeniable, and its legacy continues to inspire and influence artists and creators around the world. By embracing innovation and personal expression, the New Wave movement has left an indelible mark on the history of music and cinema.\\n\\n---\\n\\nThis document provides an overview of the New Wave movement, its origins, characteristics, and lasting impact. If you need more specific details or additional sections, feel free to ask!\""
            ]
          },
          "execution_count": 22,
          "metadata": {},
          "output_type": "execute_result"
        }
      ],
      "source": [
        "sample_text"
      ]
    },
    {
      "cell_type": "code",
      "execution_count": 23,
      "metadata": {
        "id": "VbD9oy4sRqKV"
      },
      "outputs": [],
      "source": [
        "text_splitter = RecursiveCharacterTextSplitter(\n",
        "    chunk_size=50,\n",
        "    chunk_overlap=10,\n",
        "    length_function=len,\n",
        ")"
      ]
    },
    {
      "cell_type": "code",
      "execution_count": 24,
      "metadata": {
        "colab": {
          "base_uri": "https://localhost:8080/"
        },
        "id": "aCLacGWZRzJ1",
        "outputId": "011c0607-91a5-4240-a53c-0f51d5d63666"
      },
      "outputs": [
        {
          "name": "stdout",
          "output_type": "stream",
          "text": [
            "[Document(page_content=\"Sure, here's a document about the New Wave\"), Document(page_content='New Wave movement:'), Document(page_content='---\\n\\n# The New Wave Movement\\n\\n## Introduction'), Document(page_content='The New Wave movement, which emerged in the late'), Document(page_content='the late 1970s and early 1980s, was a'), Document(page_content='was a revolutionary period in music, film, and'), Document(page_content='film, and culture. It represented a departure'), Document(page_content='departure from the traditional norms and embraced'), Document(page_content='embraced a more experimental and avant-garde'), Document(page_content='approach. This document explores the origins,'), Document(page_content='origins, characteristics, and impact of the New'), Document(page_content='the New Wave movement, focusing on its influence'), Document(page_content='influence in music and film.'), Document(page_content='## Origins of New Wave\\n\\n### Music'), Document(page_content='New Wave music originated as a subgenre of rock'), Document(page_content='of rock music, influenced by punk rock,'), Document(page_content='rock, electronic music, and pop. It was'), Document(page_content='It was characterized by its eclectic mix of'), Document(page_content='mix of styles, use of synthesizers, and a focus'), Document(page_content='a focus on fashion and visual aesthetics. Bands'), Document(page_content='Bands like Talking Heads, Blondie, and Devo were'), Document(page_content='Devo were at the forefront of this movement,'), Document(page_content=\"movement, blending punk's raw energy with a more\"), Document(page_content='a more polished and accessible sound.'), Document(page_content='### Film'), Document(page_content='In cinema, the New Wave movement began in France'), Document(page_content='in France in the late 1950s and early 1960s,'), Document(page_content='1960s, known as the French New Wave (Nouvelle'), Document(page_content='(Nouvelle Vague). Directors like FranÃ§ois'), Document(page_content='FranÃ§ois Truffaut, Jean-Luc Godard, and AgnÃ¨s'), Document(page_content='AgnÃ¨s Varda broke away from traditional'), Document(page_content='filmmaking techniques, experimenting with'), Document(page_content='with narrative structures, editing, and visual'), Document(page_content='visual style. This movement influenced filmmakers'), Document(page_content='worldwide and paved the way for a more personal'), Document(page_content='personal and artistic approach to cinema.'), Document(page_content='## Characteristics of New Wave\\n\\n### Music'), Document(page_content='1. **Eclectic Influences**: New Wave music drew'), Document(page_content='drew from a wide range of genres, including punk,'), Document(page_content='punk, reggae, funk, and electronic music. This'), Document(page_content='This diversity created a unique and innovative'), Document(page_content='sound.'), Document(page_content='2. **Synthesizers and Technology**: The use of'), Document(page_content='use of synthesizers and electronic instruments'), Document(page_content='was a hallmark of New Wave music. Bands like'), Document(page_content='like Depeche Mode and The Human League utilized'), Document(page_content='utilized these tools to create futuristic and'), Document(page_content='and catchy melodies.'), Document(page_content='3. **Fashion and Visuals**: New Wave artists'), Document(page_content='artists often had a distinctive visual style,'), Document(page_content='style, characterized by bold fashion choices,'), Document(page_content='choices, colorful clothing, and avant-garde music'), Document(page_content='music videos. This emphasis on aesthetics was'), Document(page_content=\"was integral to the movement's identity.\"), Document(page_content='### Film'), Document(page_content='1. **Innovative Techniques**: New Wave filmmakers'), Document(page_content='experimented with unconventional narrative'), Document(page_content='narrative structures, jump cuts, and handheld'), Document(page_content='handheld camera work. These techniques challenged'), Document(page_content='traditional storytelling and created a more'), Document(page_content='a more dynamic and engaging viewing experience.'), Document(page_content='2. **Personal Expression**: The New Wave movement'), Document(page_content='movement emphasized personal and artistic'), Document(page_content='artistic expression. Filmmakers often drew from'), Document(page_content='drew from their own experiences and perspectives,'), Document(page_content='resulting in more intimate and authentic films.'), Document(page_content='3. **Breaking Conventions**: New Wave cinema'), Document(page_content='cinema broke away from the constraints of'), Document(page_content='of mainstream filmmaking. Directors often worked'), Document(page_content='worked with low budgets, non-professional actors,'), Document(page_content='actors, and improvised dialogue, creating a more'), Document(page_content='a more raw and realistic portrayal of life.'), Document(page_content='## Impact of New Wave\\n\\n### Music'), Document(page_content='The New Wave movement had a profound impact on'), Document(page_content='impact on the music industry. It paved the way'), Document(page_content='the way for the rise of alternative and indie'), Document(page_content='and indie music, influencing countless artists'), Document(page_content='artists and bands. The emphasis on synthesizers'), Document(page_content='and electronic music also contributed to the'), Document(page_content='to the development of genres like synth-pop and'), Document(page_content=\"and electronic dance music (EDM). New Wave's\"), Document(page_content=\"Wave's fusion of different styles and its focus\"), Document(page_content='its focus on visual aesthetics continue to'), Document(page_content='to inspire musicians and artists today.'), Document(page_content='### Film'), Document(page_content='The influence of the New Wave movement in cinema'), Document(page_content='in cinema is still felt today. Its innovative'), Document(page_content='techniques and emphasis on personal expression'), Document(page_content='have inspired generations of filmmakers. The'), Document(page_content=\"The movement's legacy can be seen in the works of\"), Document(page_content='works of directors like Quentin Tarantino, Wes'), Document(page_content='Wes Anderson, and Sofia Coppola, who continue to'), Document(page_content='to push the boundaries of storytelling and visual'), Document(page_content='visual style.'), Document(page_content='## Conclusion'), Document(page_content='The New Wave movement was a transformative period'), Document(page_content='period in music and film, characterized by its'), Document(page_content='by its experimental approach and departure from'), Document(page_content='from traditional norms. Its impact on culture and'), Document(page_content='and the arts is undeniable, and its legacy'), Document(page_content='legacy continues to inspire and influence artists'), Document(page_content='artists and creators around the world. By'), Document(page_content='world. By embracing innovation and personal'), Document(page_content='personal expression, the New Wave movement has'), Document(page_content='has left an indelible mark on the history of'), Document(page_content='of music and cinema.'), Document(page_content='---'), Document(page_content='This document provides an overview of the New'), Document(page_content='the New Wave movement, its origins,'), Document(page_content='origins, characteristics, and lasting impact. If'), Document(page_content='If you need more specific details or additional'), Document(page_content='sections, feel free to ask!')]\n"
          ]
        }
      ],
      "source": [
        "texts = text_splitter.create_documents([sample_text])\n",
        "print(texts)"
      ]
    },
    {
      "cell_type": "markdown",
      "metadata": {
        "id": "hdbQYMtpSVdQ"
      },
      "source": [
        "#======"
      ]
    },
    {
      "cell_type": "code",
      "execution_count": 25,
      "metadata": {
        "colab": {
          "base_uri": "https://localhost:8080/"
        },
        "id": "iX4fHM6uSkoy",
        "outputId": "bb6e8a8d-35c4-4e8c-cf16-89bac2141758"
      },
      "outputs": [
        {
          "name": "stderr",
          "output_type": "stream",
          "text": [
            "[nltk_data] Downloading package punkt to /home/carlos/nltk_data...\n",
            "[nltk_data]   Package punkt is already up-to-date!\n"
          ]
        },
        {
          "data": {
            "text/plain": [
              "True"
            ]
          },
          "execution_count": 25,
          "metadata": {},
          "output_type": "execute_result"
        }
      ],
      "source": [
        "import nltk\n",
        "nltk.download('punkt')"
      ]
    },
    {
      "cell_type": "code",
      "execution_count": 28,
      "metadata": {
        "colab": {
          "base_uri": "https://localhost:8080/"
        },
        "id": "E4-grTQDR0QY",
        "outputId": "efa3aee6-f08b-407e-d752-d9b221d333fe"
      },
      "outputs": [
        {
          "name": "stdout",
          "output_type": "stream",
          "text": [
            "This document explores the origins, characteristics, and impact of the New Wave movement, focusing on its influence in music and film.\n",
            "\n",
            "## Origins of New Wave\n",
            "\n",
            "### Music\n",
            "\n",
            "New Wave music originated as a subgenre of rock music, influenced by punk rock, electronic music, and pop.\n",
            "\n",
            "It was characterized by its eclectic mix of styles, use of synthesizers, and a focus on fashion and visual aesthetics.\n"
          ]
        }
      ],
      "source": [
        "# Load a long document\n",
        "with open('LLM.txt', encoding= 'unicode_escape') as f:\n",
        "    sample_text = f.read()\n",
        "\n",
        "from langchain.text_splitter import NLTKTextSplitter\n",
        "text_splitter = NLTKTextSplitter(chunk_size=500)\n",
        "\n",
        "\n",
        "texts = text_splitter.split_text(sample_text)\n",
        "print(texts[1])"
      ]
    },
    {
      "cell_type": "code",
      "execution_count": 44,
      "metadata": {},
      "outputs": [
        {
          "name": "stdout",
          "output_type": "stream",
          "text": [
            "Collecting en-core-web-sm==3.7.1\n",
            "  Downloading https://github.com/explosion/spacy-models/releases/download/en_core_web_sm-3.7.1/en_core_web_sm-3.7.1-py3-none-any.whl (12.8 MB)\n",
            "\u001b[2K     \u001b[90m━━━━━━━━━━━━━━━━━━━━━━━━━━━━━━━━━━━━━━━━\u001b[0m \u001b[32m12.8/12.8 MB\u001b[0m \u001b[31m9.2 MB/s\u001b[0m eta \u001b[36m0:00:00\u001b[0m00:01\u001b[0m00:01\u001b[0m\n",
            "\u001b[?25hRequirement already satisfied: spacy<3.8.0,>=3.7.2 in /home/carlos/anaconda3/envs/ragbook/lib/python3.12/site-packages (from en-core-web-sm==3.7.1) (3.7.5)\n",
            "Requirement already satisfied: spacy-legacy<3.1.0,>=3.0.11 in /home/carlos/anaconda3/envs/ragbook/lib/python3.12/site-packages (from spacy<3.8.0,>=3.7.2->en-core-web-sm==3.7.1) (3.0.12)\n",
            "Requirement already satisfied: spacy-loggers<2.0.0,>=1.0.0 in /home/carlos/anaconda3/envs/ragbook/lib/python3.12/site-packages (from spacy<3.8.0,>=3.7.2->en-core-web-sm==3.7.1) (1.0.5)\n",
            "Requirement already satisfied: murmurhash<1.1.0,>=0.28.0 in /home/carlos/anaconda3/envs/ragbook/lib/python3.12/site-packages (from spacy<3.8.0,>=3.7.2->en-core-web-sm==3.7.1) (1.0.10)\n",
            "Requirement already satisfied: cymem<2.1.0,>=2.0.2 in /home/carlos/anaconda3/envs/ragbook/lib/python3.12/site-packages (from spacy<3.8.0,>=3.7.2->en-core-web-sm==3.7.1) (2.0.8)\n",
            "Requirement already satisfied: preshed<3.1.0,>=3.0.2 in /home/carlos/anaconda3/envs/ragbook/lib/python3.12/site-packages (from spacy<3.8.0,>=3.7.2->en-core-web-sm==3.7.1) (3.0.9)\n",
            "Requirement already satisfied: thinc<8.3.0,>=8.2.2 in /home/carlos/anaconda3/envs/ragbook/lib/python3.12/site-packages (from spacy<3.8.0,>=3.7.2->en-core-web-sm==3.7.1) (8.2.5)\n",
            "Requirement already satisfied: wasabi<1.2.0,>=0.9.1 in /home/carlos/anaconda3/envs/ragbook/lib/python3.12/site-packages (from spacy<3.8.0,>=3.7.2->en-core-web-sm==3.7.1) (1.1.3)\n",
            "Requirement already satisfied: srsly<3.0.0,>=2.4.3 in /home/carlos/anaconda3/envs/ragbook/lib/python3.12/site-packages (from spacy<3.8.0,>=3.7.2->en-core-web-sm==3.7.1) (2.4.8)\n",
            "Requirement already satisfied: catalogue<2.1.0,>=2.0.6 in /home/carlos/anaconda3/envs/ragbook/lib/python3.12/site-packages (from spacy<3.8.0,>=3.7.2->en-core-web-sm==3.7.1) (2.0.10)\n",
            "Requirement already satisfied: weasel<0.5.0,>=0.1.0 in /home/carlos/anaconda3/envs/ragbook/lib/python3.12/site-packages (from spacy<3.8.0,>=3.7.2->en-core-web-sm==3.7.1) (0.4.1)\n",
            "Requirement already satisfied: typer<1.0.0,>=0.3.0 in /home/carlos/anaconda3/envs/ragbook/lib/python3.12/site-packages (from spacy<3.8.0,>=3.7.2->en-core-web-sm==3.7.1) (0.12.4)\n",
            "Requirement already satisfied: tqdm<5.0.0,>=4.38.0 in /home/carlos/anaconda3/envs/ragbook/lib/python3.12/site-packages (from spacy<3.8.0,>=3.7.2->en-core-web-sm==3.7.1) (4.66.5)\n",
            "Requirement already satisfied: requests<3.0.0,>=2.13.0 in /home/carlos/anaconda3/envs/ragbook/lib/python3.12/site-packages (from spacy<3.8.0,>=3.7.2->en-core-web-sm==3.7.1) (2.32.3)\n",
            "Requirement already satisfied: pydantic!=1.8,!=1.8.1,<3.0.0,>=1.7.4 in /home/carlos/anaconda3/envs/ragbook/lib/python3.12/site-packages (from spacy<3.8.0,>=3.7.2->en-core-web-sm==3.7.1) (2.8.2)\n",
            "Requirement already satisfied: jinja2 in /home/carlos/anaconda3/envs/ragbook/lib/python3.12/site-packages (from spacy<3.8.0,>=3.7.2->en-core-web-sm==3.7.1) (3.1.4)\n",
            "Requirement already satisfied: setuptools in /home/carlos/anaconda3/envs/ragbook/lib/python3.12/site-packages (from spacy<3.8.0,>=3.7.2->en-core-web-sm==3.7.1) (72.1.0)\n",
            "Requirement already satisfied: packaging>=20.0 in /home/carlos/anaconda3/envs/ragbook/lib/python3.12/site-packages (from spacy<3.8.0,>=3.7.2->en-core-web-sm==3.7.1) (24.1)\n",
            "Requirement already satisfied: langcodes<4.0.0,>=3.2.0 in /home/carlos/anaconda3/envs/ragbook/lib/python3.12/site-packages (from spacy<3.8.0,>=3.7.2->en-core-web-sm==3.7.1) (3.4.0)\n",
            "Requirement already satisfied: numpy>=1.19.0 in /home/carlos/anaconda3/envs/ragbook/lib/python3.12/site-packages (from spacy<3.8.0,>=3.7.2->en-core-web-sm==3.7.1) (1.26.4)\n",
            "Requirement already satisfied: language-data>=1.2 in /home/carlos/anaconda3/envs/ragbook/lib/python3.12/site-packages (from langcodes<4.0.0,>=3.2.0->spacy<3.8.0,>=3.7.2->en-core-web-sm==3.7.1) (1.2.0)\n",
            "Requirement already satisfied: annotated-types>=0.4.0 in /home/carlos/anaconda3/envs/ragbook/lib/python3.12/site-packages (from pydantic!=1.8,!=1.8.1,<3.0.0,>=1.7.4->spacy<3.8.0,>=3.7.2->en-core-web-sm==3.7.1) (0.7.0)\n",
            "Requirement already satisfied: pydantic-core==2.20.1 in /home/carlos/anaconda3/envs/ragbook/lib/python3.12/site-packages (from pydantic!=1.8,!=1.8.1,<3.0.0,>=1.7.4->spacy<3.8.0,>=3.7.2->en-core-web-sm==3.7.1) (2.20.1)\n",
            "Requirement already satisfied: typing-extensions>=4.6.1 in /home/carlos/anaconda3/envs/ragbook/lib/python3.12/site-packages (from pydantic!=1.8,!=1.8.1,<3.0.0,>=1.7.4->spacy<3.8.0,>=3.7.2->en-core-web-sm==3.7.1) (4.12.2)\n",
            "Requirement already satisfied: charset-normalizer<4,>=2 in /home/carlos/anaconda3/envs/ragbook/lib/python3.12/site-packages (from requests<3.0.0,>=2.13.0->spacy<3.8.0,>=3.7.2->en-core-web-sm==3.7.1) (3.3.2)\n",
            "Requirement already satisfied: idna<4,>=2.5 in /home/carlos/anaconda3/envs/ragbook/lib/python3.12/site-packages (from requests<3.0.0,>=2.13.0->spacy<3.8.0,>=3.7.2->en-core-web-sm==3.7.1) (3.7)\n",
            "Requirement already satisfied: urllib3<3,>=1.21.1 in /home/carlos/anaconda3/envs/ragbook/lib/python3.12/site-packages (from requests<3.0.0,>=2.13.0->spacy<3.8.0,>=3.7.2->en-core-web-sm==3.7.1) (2.2.2)\n",
            "Requirement already satisfied: certifi>=2017.4.17 in /home/carlos/anaconda3/envs/ragbook/lib/python3.12/site-packages (from requests<3.0.0,>=2.13.0->spacy<3.8.0,>=3.7.2->en-core-web-sm==3.7.1) (2024.7.4)\n",
            "Requirement already satisfied: blis<0.8.0,>=0.7.8 in /home/carlos/anaconda3/envs/ragbook/lib/python3.12/site-packages (from thinc<8.3.0,>=8.2.2->spacy<3.8.0,>=3.7.2->en-core-web-sm==3.7.1) (0.7.11)\n",
            "Requirement already satisfied: confection<1.0.0,>=0.0.1 in /home/carlos/anaconda3/envs/ragbook/lib/python3.12/site-packages (from thinc<8.3.0,>=8.2.2->spacy<3.8.0,>=3.7.2->en-core-web-sm==3.7.1) (0.1.5)\n",
            "Requirement already satisfied: click>=8.0.0 in /home/carlos/anaconda3/envs/ragbook/lib/python3.12/site-packages (from typer<1.0.0,>=0.3.0->spacy<3.8.0,>=3.7.2->en-core-web-sm==3.7.1) (8.1.7)\n",
            "Requirement already satisfied: shellingham>=1.3.0 in /home/carlos/anaconda3/envs/ragbook/lib/python3.12/site-packages (from typer<1.0.0,>=0.3.0->spacy<3.8.0,>=3.7.2->en-core-web-sm==3.7.1) (1.5.4)\n",
            "Requirement already satisfied: rich>=10.11.0 in /home/carlos/anaconda3/envs/ragbook/lib/python3.12/site-packages (from typer<1.0.0,>=0.3.0->spacy<3.8.0,>=3.7.2->en-core-web-sm==3.7.1) (13.7.1)\n",
            "Requirement already satisfied: cloudpathlib<1.0.0,>=0.7.0 in /home/carlos/anaconda3/envs/ragbook/lib/python3.12/site-packages (from weasel<0.5.0,>=0.1.0->spacy<3.8.0,>=3.7.2->en-core-web-sm==3.7.1) (0.18.1)\n",
            "Requirement already satisfied: smart-open<8.0.0,>=5.2.1 in /home/carlos/anaconda3/envs/ragbook/lib/python3.12/site-packages (from weasel<0.5.0,>=0.1.0->spacy<3.8.0,>=3.7.2->en-core-web-sm==3.7.1) (7.0.4)\n",
            "Requirement already satisfied: MarkupSafe>=2.0 in /home/carlos/anaconda3/envs/ragbook/lib/python3.12/site-packages (from jinja2->spacy<3.8.0,>=3.7.2->en-core-web-sm==3.7.1) (2.1.5)\n",
            "Requirement already satisfied: marisa-trie>=0.7.7 in /home/carlos/anaconda3/envs/ragbook/lib/python3.12/site-packages (from language-data>=1.2->langcodes<4.0.0,>=3.2.0->spacy<3.8.0,>=3.7.2->en-core-web-sm==3.7.1) (1.2.0)\n",
            "Requirement already satisfied: markdown-it-py>=2.2.0 in /home/carlos/anaconda3/envs/ragbook/lib/python3.12/site-packages (from rich>=10.11.0->typer<1.0.0,>=0.3.0->spacy<3.8.0,>=3.7.2->en-core-web-sm==3.7.1) (3.0.0)\n",
            "Requirement already satisfied: pygments<3.0.0,>=2.13.0 in /home/carlos/anaconda3/envs/ragbook/lib/python3.12/site-packages (from rich>=10.11.0->typer<1.0.0,>=0.3.0->spacy<3.8.0,>=3.7.2->en-core-web-sm==3.7.1) (2.15.1)\n",
            "Requirement already satisfied: wrapt in /home/carlos/anaconda3/envs/ragbook/lib/python3.12/site-packages (from smart-open<8.0.0,>=5.2.1->weasel<0.5.0,>=0.1.0->spacy<3.8.0,>=3.7.2->en-core-web-sm==3.7.1) (1.16.0)\n",
            "Requirement already satisfied: mdurl~=0.1 in /home/carlos/anaconda3/envs/ragbook/lib/python3.12/site-packages (from markdown-it-py>=2.2.0->rich>=10.11.0->typer<1.0.0,>=0.3.0->spacy<3.8.0,>=3.7.2->en-core-web-sm==3.7.1) (0.1.2)\n",
            "Installing collected packages: en-core-web-sm\n",
            "Successfully installed en-core-web-sm-3.7.1\n",
            "\u001b[38;5;2m✔ Download and installation successful\u001b[0m\n",
            "You can now load the package via spacy.load('en_core_web_sm')\n"
          ]
        }
      ],
      "source": [
        "%%python -m spacy download en_core_web_sm\n",
        "%%python -m spacy link en_core_web_sm en\n",
        "import spacy\n",
        "nlp = spacy.load(\"en_core_web_sm\")\n"
      ]
    },
    {
      "cell_type": "markdown",
      "metadata": {
        "id": "a5nzGYeLTbNm"
      },
      "source": [
        "#======"
      ]
    },
    {
      "cell_type": "code",
      "execution_count": 51,
      "metadata": {
        "colab": {
          "base_uri": "https://localhost:8080/"
        },
        "id": "xooCnKxQSWnf",
        "outputId": "f6246710-1e99-4ae8-a009-4ffe5e87a44c"
      },
      "outputs": [
        {
          "name": "stderr",
          "output_type": "stream",
          "text": [
            "Created a chunk of size 228, which is longer than the specified 200\n",
            "Created a chunk of size 295, which is longer than the specified 200\n"
          ]
        },
        {
          "name": "stdout",
          "output_type": "stream",
          "text": [
            "Sure, here's a document about the New Wave movement:\n",
            "\n",
            "---\n",
            "\n",
            "# The New Wave Movement\n",
            "\n",
            "## Introduction\n",
            "\n",
            "The New Wave movement, which emerged in the late 1970s and early 1980s, was a revolutionary period in music, film, and culture.\n",
            "split\n",
            "It represented a departure from the traditional norms and embraced a more experimental and avant-garde approach.\n",
            "split\n",
            "This document explores the origins, characteristics, and impact of the New Wave movement, focusing on its influence in music and film.\n",
            "split\n",
            "## Origins of New Wave\n",
            "\n",
            "### Music\n",
            "\n",
            "New Wave music originated as a subgenre of rock music, influenced by punk rock, electronic music, and pop.\n",
            "split\n",
            "It was characterized by its eclectic mix of styles, use of synthesizers, and a focus on fashion and visual aesthetics.\n",
            "split\n",
            "Bands like Talking Heads, Blondie, and Devo were at the forefront of this movement, blending punk's raw energy with a more polished and accessible sound.\n",
            "\n",
            "### Film\n",
            "\n",
            "In cinema, the New Wave movement began in France in the late 1950s and early 1960s, known as the French New Wave (Nouvelle Vague).\n"
          ]
        }
      ],
      "source": [
        "from langchain_text_splitters.spacy import SpacyTextSplitter\n",
        "\n",
        "\n",
        "# Load a long document\n",
        "with open('LLM.txt', encoding= 'unicode_escape') as f:\n",
        "    sample_text = f.read()\n",
        "\n",
        "# Instantiate the SpacyTextSplitter with the desired chunk size\n",
        "text_splitter = SpacyTextSplitter(chunk_size=200, chunk_overlap=20)\n",
        "\n",
        "\n",
        "# Split the text using SpacyTextSplitter\n",
        "texts = text_splitter.split_text(sample_text)\n",
        "\n",
        "# Print the first chunk\n",
        "print(texts[0])\n",
        "print(\"split\")\n",
        "print(texts[1])\n",
        "print(\"split\")\n",
        "print(texts[2])\n",
        "print(\"split\")\n",
        "print(texts[3])\n",
        "print(\"split\")\n",
        "print(texts[4])\n",
        "print(\"split\")\n",
        "print(texts[5])\n",
        "\n"
      ]
    },
    {
      "cell_type": "markdown",
      "metadata": {
        "id": "QTOsrDcQYjza"
      },
      "source": [
        "#====="
      ]
    },
    {
      "cell_type": "code",
      "execution_count": 53,
      "metadata": {
        "colab": {
          "base_uri": "https://localhost:8080/"
        },
        "id": "rknT3Bk1Tb3z",
        "outputId": "f2cee5b7-4d85-4503-e84a-22c3264b08df"
      },
      "outputs": [
        {
          "name": "stdout",
          "output_type": "stream",
          "text": [
            "[Document(page_content='#\\n\\n# Welcome to My Blog!'), Document(page_content='## Introduction'), Document(page_content='Hello everyone! My name is **John Doe** and I am a _software developer_. I specialize in Python,'), Document(page_content='Java, and JavaScript.'), Document(page_content=\"Here's a list of my favorite programming languages:\\n\\n1. Python\\n2. JavaScript\\n3. Java\"), Document(page_content='You can check out some of my projects on [GitHub](https://github.com).'), Document(page_content='## About this Blog'), Document(page_content=\"In this blog, I will share my journey as a software developer. I'll post tutorials, my thoughts on\"), Document(page_content='the latest technology trends, and occasional book reviews.'), Document(page_content=\"Here's a small piece of Python code to say hello:\"), Document(page_content='\\\\``` python\\ndef say_hello(name):\\n    print(f\"Hello, {name}!\")\\n\\nsay_hello(\"John\")\\n\\\\'), Document(page_content='```\\n\\nStay tuned for more updates!'), Document(page_content='## Contact Me'), Document(page_content='Feel free to reach out to me on [Twitter](https://twitter.com) or send me an email at'), Document(page_content='johndoe@email.com.')]\n"
          ]
        },
        {
          "name": "stderr",
          "output_type": "stream",
          "text": [
            "<>:2: SyntaxWarning: invalid escape sequence '\\`'\n",
            "<>:2: SyntaxWarning: invalid escape sequence '\\`'\n",
            "/tmp/ipykernel_1521942/806160468.py:2: SyntaxWarning: invalid escape sequence '\\`'\n",
            "  markdown_text = \"\"\"\n"
          ]
        }
      ],
      "source": [
        "from langchain.text_splitter import MarkdownTextSplitter\n",
        "markdown_text = \"\"\"\n",
        "#\n",
        "\n",
        "# Welcome to My Blog!\n",
        "\n",
        "## Introduction\n",
        "Hello everyone! My name is **John Doe** and I am a _software developer_. I specialize in Python, Java, and JavaScript.\n",
        "\n",
        "Here's a list of my favorite programming languages:\n",
        "\n",
        "1. Python\n",
        "2. JavaScript\n",
        "3. Java\n",
        "\n",
        "You can check out some of my projects on [GitHub](https://github.com).\n",
        "\n",
        "## About this Blog\n",
        "In this blog, I will share my journey as a software developer. I'll post tutorials, my thoughts on the latest technology trends, and occasional book reviews.\n",
        "\n",
        "Here's a small piece of Python code to say hello:\n",
        "\n",
        "\\``` python\n",
        "def say_hello(name):\n",
        "    print(f\"Hello, {name}!\")\n",
        "\n",
        "say_hello(\"John\")\n",
        "\\```\n",
        "\n",
        "Stay tuned for more updates!\n",
        "\n",
        "## Contact Me\n",
        "Feel free to reach out to me on [Twitter](https://twitter.com) or send me an email at johndoe@email.com.\n",
        "\n",
        "\"\"\"\n",
        "markdown_splitter = MarkdownTextSplitter(chunk_size=100, chunk_overlap=0)\n",
        "docs = markdown_splitter.create_documents([markdown_text])\n",
        "print(docs)"
      ]
    },
    {
      "cell_type": "markdown",
      "metadata": {
        "id": "FZ2g0KI2Zb-s"
      },
      "source": [
        "#====="
      ]
    },
    {
      "cell_type": "code",
      "execution_count": 54,
      "metadata": {
        "colab": {
          "base_uri": "https://localhost:8080/"
        },
        "id": "MrZxTi2IYl94",
        "outputId": "3353aec4-d822-4752-c621-40b30d303b3b"
      },
      "outputs": [
        {
          "name": "stdout",
          "output_type": "stream",
          "text": [
            "Sure, here's a document about the New Wave movement:\n",
            "\n",
            "---\n",
            "\n",
            "# The New Wave Movement\n",
            "\n",
            "## Introduction\n",
            "\n",
            "The New Wave movement, which emerged in the late 1970s and early 1980s, was a revolutionary period in music, film, and culture. It represented a departure from the traditional norms and embraced a more experimental and avant-garde approach. This document explores the origins, characteristics, and impact of the New Wave movement, focusing on its influence in music\n",
            "split\n",
            " music, film, and culture. It represented a departure from the traditional norms and embraced a more experimental and avant-garde approach. This document explores the origins, characteristics, and impact of the New Wave movement, focusing on its influence in music and film.\n",
            "\n",
            "## Origins of New Wave\n",
            "\n",
            "### Music\n",
            "\n",
            "New Wave music originated as a subgenre of rock music, influenced by punk rock, electronic music, and pop. It was characterized by its eclectic mix of styles, use\n",
            "split\n",
            " and film.\n",
            "\n",
            "## Origins of New Wave\n",
            "\n",
            "### Music\n",
            "\n",
            "New Wave music originated as a subgenre of rock music, influenced by punk rock, electronic music, and pop. It was characterized by its eclectic mix of styles, use of synthesizers, and a focus on fashion and visual aesthetics. Bands like Talking Heads, Blondie, and Devo were at the forefront of this movement, blending punk's raw energy with a more polished and accessible sound.\n",
            "\n",
            "###\n",
            "split\n",
            " of synthesizers, and a focus on fashion and visual aesthetics. Bands like Talking Heads, Blondie, and Devo were at the forefront of this movement, blending punk's raw energy with a more polished and accessible sound.\n",
            "\n",
            "### Film\n",
            "\n",
            "In cinema, the New Wave movement began in France in the late 1950s and early 1960s, known as the French New Wave (Nouvelle Vague). Directors like FranÃ§ois Truffaut, Jean-Luc\n",
            "split\n",
            " Film\n",
            "\n",
            "In cinema, the New Wave movement began in France in the late 1950s and early 1960s, known as the French New Wave (Nouvelle Vague). Directors like FranÃ§ois Truffaut, Jean-Luc Godard, and AgnÃ¨s Varda broke away from traditional filmmaking techniques, experimenting with narrative structures, editing, and visual style. This movement influenced filmmakers worldwide and paved the way for a more personal and artistic approach to cinema.\n",
            "\n",
            "split\n",
            " Godard, and AgnÃ¨s Varda broke away from traditional filmmaking techniques, experimenting with narrative structures, editing, and visual style. This movement influenced filmmakers worldwide and paved the way for a more personal and artistic approach to cinema.\n",
            "\n",
            "## Characteristics of New Wave\n",
            "\n",
            "### Music\n",
            "\n",
            "1. **Eclectic Influences**: New Wave music drew from a wide range of genres, including punk, reggae, funk, and electronic music. This diversity created a unique\n"
          ]
        }
      ],
      "source": [
        "from langchain.text_splitter import TokenTextSplitter\n",
        "\n",
        "# Load a long document\n",
        "with open('LLM.txt', encoding= 'unicode_escape') as f:\n",
        "    sample_text = f.read()\n",
        "\n",
        "# Initialize the TokenTextSplitter with desired chunk size and overlap\n",
        "text_splitter = TokenTextSplitter(chunk_size=100, chunk_overlap=50)\n",
        "\n",
        "# Split into smaller chunks\n",
        "texts = text_splitter.split_text(sample_text)\n",
        "print(texts[0])\n",
        "print(\"split\")\n",
        "print(texts[1])\n",
        "print(\"split\")\n",
        "print(texts[2])\n",
        "print(\"split\")\n",
        "print(texts[3])\n",
        "print(\"split\")\n",
        "print(texts[4])\n",
        "print(\"split\")\n",
        "print(texts[5])"
      ]
    },
    {
      "cell_type": "code",
      "execution_count": null,
      "metadata": {
        "id": "GggTVv6oZeIh"
      },
      "outputs": [],
      "source": []
    }
  ],
  "metadata": {
    "colab": {
      "authorship_tag": "ABX9TyPeSwnwUMQgLzqA/9Bqkmzj",
      "include_colab_link": true,
      "provenance": []
    },
    "kernelspec": {
      "display_name": "Python 3",
      "name": "python3"
    },
    "language_info": {
      "codemirror_mode": {
        "name": "ipython",
        "version": 3
      },
      "file_extension": ".py",
      "mimetype": "text/x-python",
      "name": "python",
      "nbconvert_exporter": "python",
      "pygments_lexer": "ipython3",
      "version": "3.12.4"
    }
  },
  "nbformat": 4,
  "nbformat_minor": 0
}
