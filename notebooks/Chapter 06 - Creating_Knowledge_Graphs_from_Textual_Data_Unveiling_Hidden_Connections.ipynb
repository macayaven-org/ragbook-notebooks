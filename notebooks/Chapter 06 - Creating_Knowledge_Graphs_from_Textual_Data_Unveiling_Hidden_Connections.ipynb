{
  "cells": [
    {
      "cell_type": "markdown",
      "metadata": {
        "colab_type": "text",
        "id": "view-in-github"
      },
      "source": [
        "<a href=\"https://colab.research.google.com/github/towardsai/ragbook-notebooks/blob/main/notebooks/Chapter%2006%20-%20Creating_Knowledge_Graphs_from_Textual_Data_Unveiling_Hidden_Connections.ipynb\" target=\"_parent\"><img src=\"https://colab.research.google.com/assets/colab-badge.svg\" alt=\"Open In Colab\"/></a>"
      ]
    },
    {
      "cell_type": "code",
      "execution_count": 1,
      "metadata": {
        "colab": {
          "base_uri": "https://localhost:8080/"
        },
        "id": "8jFmPv7qAk-h",
        "outputId": "5444cdd2-156d-4b08-8f89-6bdc6b3956d2"
      },
      "outputs": [],
      "source": [
        "!pip install -q langchain==0.0.208 openai==0.27.8 python-dotenv pyvis"
      ]
    },
    {
      "cell_type": "code",
      "execution_count": 1,
      "metadata": {
        "colab": {
          "base_uri": "https://localhost:8080/"
        },
        "id": "fdhPiWF1CbhM",
        "outputId": "3f605fe4-a6eb-43b2-b75e-abdd2fb667f0"
      },
      "outputs": [
        {
          "data": {
            "text/plain": [
              "False"
            ]
          },
          "execution_count": 1,
          "metadata": {},
          "output_type": "execute_result"
        }
      ],
      "source": [
        "from dotenv import load_dotenv\n",
        "\n",
        "load_dotenv(dotenv_path='../env')"
      ]
    },
    {
      "cell_type": "code",
      "execution_count": 3,
      "metadata": {
        "colab": {
          "base_uri": "https://localhost:8080/"
        },
        "id": "9XvgMXSRCeNE",
        "outputId": "78336cf0-7fdb-4511-8a5a-1184d750c395"
      },
      "outputs": [
        {
          "name": "stderr",
          "output_type": "stream",
          "text": [
            "/home/carlos/anaconda3/envs/ragbook/lib/python3.12/site-packages/langchain_core/_api/deprecation.py:139: LangChainDeprecationWarning: The class `ChatOpenAI` was deprecated in LangChain 0.0.10 and will be removed in 0.3.0. An updated version of the class exists in the langchain-openai package and should be used instead. To use it run `pip install -U langchain-openai` and import as `from langchain_openai import ChatOpenAI`.\n",
            "  warn_deprecated(\n",
            "/home/carlos/anaconda3/envs/ragbook/lib/python3.12/site-packages/langchain_core/_api/deprecation.py:139: LangChainDeprecationWarning: The class `LLMChain` was deprecated in LangChain 0.1.17 and will be removed in 1.0. Use RunnableSequence, e.g., `prompt | llm` instead.\n",
            "  warn_deprecated(\n",
            "/home/carlos/anaconda3/envs/ragbook/lib/python3.12/site-packages/langchain_core/_api/deprecation.py:139: LangChainDeprecationWarning: The method `Chain.run` was deprecated in langchain 0.1.0 and will be removed in 0.3.0. Use invoke instead.\n",
            "  warn_deprecated(\n"
          ]
        },
        {
          "name": "stdout",
          "output_type": "stream",
          "text": [
            "(Paris, is the capital of, France)<|>(Paris, is the most populous city of, France)<|>(Eiffel Tower, is a famous landmark in, Paris)\n"
          ]
        }
      ],
      "source": [
        "from langchain.prompts import PromptTemplate\n",
        "from langchain.chat_models import ChatOpenAI\n",
        "from langchain.chains import LLMChain\n",
        "from langchain_community.graphs.networkx_graph import KG_TRIPLE_DELIMITER\n",
        "\n",
        "# Prompt template for knowledge triple extraction\n",
        "_DEFAULT_KNOWLEDGE_TRIPLE_EXTRACTION_TEMPLATE = (\n",
        "    \"You are a networked intelligence helping a human track knowledge triples\"\n",
        "    \" about all relevant people, things, concepts, etc. and integrating\"\n",
        "    \" them with your knowledge stored within your weights\"\n",
        "    \" as well as that stored in a knowledge graph.\"\n",
        "    \" Extract all of the knowledge triples from the text.\"\n",
        "    \" A knowledge triple is a clause that contains a subject, a predicate,\"\n",
        "    \" and an object. The subject is the entity being described,\"\n",
        "    \" the predicate is the property of the subject that is being\"\n",
        "    \" described, and the object is the value of the property.\\n\\n\"\n",
        "    \"EXAMPLE\\n\"\n",
        "    \"It's a state in the US. It's also the number 1 producer of gold in the US.\\n\\n\"\n",
        "    f\"Output: (Nevada, is a, state){KG_TRIPLE_DELIMITER}(Nevada, is in, US)\"\n",
        "    f\"{KG_TRIPLE_DELIMITER}(Nevada, is the number 1 producer of, gold)\\n\"\n",
        "    \"END OF EXAMPLE\\n\\n\"\n",
        "    \"EXAMPLE\\n\"\n",
        "    \"I'm going to the store.\\n\\n\"\n",
        "    \"Output: NONE\\n\"\n",
        "    \"END OF EXAMPLE\\n\\n\"\n",
        "    \"EXAMPLE\\n\"\n",
        "    \"Oh huh. I know Descartes likes to drive antique scooters and play the mandolin.\\n\"\n",
        "    f\"Output: (Descartes, likes to drive, antique scooters){KG_TRIPLE_DELIMITER}(Descartes, plays, mandolin)\\n\"\n",
        "    \"END OF EXAMPLE\\n\\n\"\n",
        "    \"EXAMPLE\\n\"\n",
        "    \"{text}\"\n",
        "    \"Output:\"\n",
        ")\n",
        "\n",
        "KNOWLEDGE_TRIPLE_EXTRACTION_PROMPT = PromptTemplate(\n",
        "    input_variables=[\"text\"],\n",
        "    template=_DEFAULT_KNOWLEDGE_TRIPLE_EXTRACTION_TEMPLATE,\n",
        ")\n",
        "\n",
        "# Instantiate the OpenAI model\n",
        "llm = ChatOpenAI(model_name='gpt-3.5-turbo', temperature=0.0)\n",
        "\n",
        "# Create an LLMChain using the knowledge triple extraction prompt\n",
        "chain = LLMChain(llm=llm, prompt=KNOWLEDGE_TRIPLE_EXTRACTION_PROMPT)\n",
        "\n",
        "# Run the chain with the specified text\n",
        "text = \"The city of Paris is the capital and most populous city of France. The Eiffel Tower is a famous landmark in Paris.\"\n",
        "triples = chain.run(text)\n",
        "\n",
        "print(triples)"
      ]
    },
    {
      "cell_type": "code",
      "execution_count": 4,
      "metadata": {
        "colab": {
          "base_uri": "https://localhost:8080/"
        },
        "id": "17DGISoLDkCt",
        "outputId": "99c02cbb-050e-408f-cb86-810ae56f74e8"
      },
      "outputs": [
        {
          "name": "stdout",
          "output_type": "stream",
          "text": [
            "['(Paris, is the capital of, France)', '(Paris, is the most populous city of, France)', '(Eiffel Tower, is a famous landmark in, Paris)']\n"
          ]
        }
      ],
      "source": [
        "def parse_triples(response, delimiter=KG_TRIPLE_DELIMITER):\n",
        "    if not response:\n",
        "        return []\n",
        "    return response.split(delimiter)\n",
        "\n",
        "triples_list = parse_triples(triples)\n",
        "\n",
        "# Print the extracted relation triplets\n",
        "print(triples_list)"
      ]
    },
    {
      "cell_type": "code",
      "execution_count": 5,
      "metadata": {
        "colab": {
          "base_uri": "https://localhost:8080/",
          "height": 639
        },
        "id": "l93_tobPEAvs",
        "outputId": "6a3bf1ad-bbed-48ae-a497-98c93bd9fb90"
      },
      "outputs": [
        {
          "name": "stdout",
          "output_type": "stream",
          "text": [
            "knowledge_graph.html\n"
          ]
        },
        {
          "data": {
            "text/html": [
              "\n",
              "        <iframe\n",
              "            width=\"100%\"\n",
              "            height=\"600px\"\n",
              "            src=\"knowledge_graph.html\"\n",
              "            frameborder=\"0\"\n",
              "            allowfullscreen\n",
              "            \n",
              "        ></iframe>\n",
              "        "
            ],
            "text/plain": [
              "<IPython.lib.display.IFrame at 0x7a7ee3a01c40>"
            ]
          },
          "execution_count": 5,
          "metadata": {},
          "output_type": "execute_result"
        }
      ],
      "source": [
        "from pyvis.network import Network\n",
        "import networkx as nx\n",
        "\n",
        "# Create a NetworkX graph from the extracted relation triplets\n",
        "def create_graph_from_triplets(triplets):\n",
        "    G = nx.DiGraph()\n",
        "    for triplet in triplets:\n",
        "        subject, predicate, obj = triplet.strip().split(',')\n",
        "        G.add_edge(subject.strip(), obj.strip(), label=predicate.strip())\n",
        "    return G\n",
        "\n",
        "# Convert the NetworkX graph to a PyVis network\n",
        "def nx_to_pyvis(networkx_graph):\n",
        "    pyvis_graph = Network(notebook=True, cdn_resources='remote')\n",
        "    for node in networkx_graph.nodes():\n",
        "        pyvis_graph.add_node(node)\n",
        "    for edge in networkx_graph.edges(data=True):\n",
        "        pyvis_graph.add_edge(edge[0], edge[1], label=edge[2][\"label\"])\n",
        "    return pyvis_graph\n",
        "\n",
        "triplets = [t.strip() for t in triples_list if t.strip()]\n",
        "graph = create_graph_from_triplets(triplets)\n",
        "pyvis_network = nx_to_pyvis(graph)\n",
        "\n",
        "# Customize the appearance of the graph\n",
        "pyvis_network.toggle_hide_edges_on_drag(True)\n",
        "pyvis_network.toggle_physics(False)\n",
        "pyvis_network.set_edge_smooth('discrete')\n",
        "\n",
        "# Show the interactive knowledge graph visualization\n",
        "pyvis_network.show(\"knowledge_graph.html\")"
      ]
    }
  ],
  "metadata": {
    "colab": {
      "authorship_tag": "ABX9TyPFQrOIcWy4gmlvDq+QJn2a",
      "include_colab_link": true,
      "provenance": []
    },
    "kernelspec": {
      "display_name": "ragbook",
      "language": "python",
      "name": "python3"
    },
    "language_info": {
      "codemirror_mode": {
        "name": "ipython",
        "version": 3
      },
      "file_extension": ".py",
      "mimetype": "text/x-python",
      "name": "python",
      "nbconvert_exporter": "python",
      "pygments_lexer": "ipython3",
      "version": "3.12.4"
    }
  },
  "nbformat": 4,
  "nbformat_minor": 0
}
