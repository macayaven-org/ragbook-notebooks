{
 "cells": [
  {
   "cell_type": "code",
   "execution_count": 1,
   "metadata": {},
   "outputs": [
    {
     "name": "stderr",
     "output_type": "stream",
     "text": [
      "[nltk_data] Downloading package punkt to /home/carlos/nltk_data...\n",
      "[nltk_data]   Package punkt is already up-to-date!\n"
     ]
    }
   ],
   "source": [
    "from langchain_openai import OpenAIEmbeddings, ChatOpenAI\n",
    "from langchain.text_splitter import NLTKTextSplitter\n",
    "import nltk\n",
    "\n",
    "nltk.download(\"punkt\")\n",
    "\n",
    "from langchain_community.document_loaders import SeleniumURLLoader\n",
    "from langchain.prompts import PromptTemplate"
   ]
  },
  {
   "cell_type": "code",
   "execution_count": 2,
   "metadata": {},
   "outputs": [],
   "source": [
    "# we'll use information from the following articles\n",
    "\n",
    "urls = [\n",
    "    \"https://beebom.com/what-is-nft-explained/\",\n",
    "    \"https://beebom.com/how-delete-spotify-account/\",\n",
    "    \"https://beebom.com/how-download-gif-twitter/\",\n",
    "    \"https://beebom.com/how-use-chatgpt-linux-terminal/\",\n",
    "    \"https://beebom.com/how-delete-spotify-account/\",\n",
    "    \"https://beebom.com/how-save-instagram-story-with-music/\",\n",
    "    \"https://beebom.com/how-install-pip-windows/\",\n",
    "    \"https://beebom.com/how-check-disk-usage-linux/\",\n",
    "]"
   ]
  },
  {
   "cell_type": "code",
   "execution_count": 14,
   "metadata": {},
   "outputs": [
    {
     "name": "stderr",
     "output_type": "stream",
     "text": [
      "Created a chunk of size 1068, which is longer than the specified 1000\n"
     ]
    }
   ],
   "source": [
    "# use the selenium scraper to load the documents\n",
    "\n",
    "loader = SeleniumURLLoader(urls=urls)\n",
    "\n",
    "docs_not_splitted = loader.load()\n",
    "\n",
    "# we split the documents into smaller chunks\n",
    "\n",
    "text_splitter = NLTKTextSplitter(chunk_size=1000, chunk_overlap=0)\n",
    "docs = text_splitter.split_documents(docs_not_splitted)"
   ]
  },
  {
   "cell_type": "code",
   "execution_count": 16,
   "metadata": {},
   "outputs": [
    {
     "name": "stdout",
     "output_type": "stream",
     "text": [
      "page_content='Home > Internet > NFTs Explained: What is an NFT and What is Its Use\n",
      "\n",
      "NFTs Explained: What is an NFT and What is Its Use\n",
      "\n",
      "Arjun Sha\n",
      "\n",
      "Published: December 6, 2021\n",
      "\n",
      "Comments 2\n",
      "\n",
      "Share\n",
      "\n",
      "Copied\n",
      "\n",
      "After Bitcoin and Blockchain, NFT is another word to have entered our lexicon.\n",
      "\n",
      "The buzzword is everywhere and people are wondering what is NFT and what is its use?\n",
      "\n",
      "Well, there is not really a one-line explainer.\n",
      "\n",
      "And that’s why we have brought a comprehensive explainer on NFT, what is its use in digital art, and more.\n",
      "\n",
      "So without wasting any time, let’s go ahead and learn about NFTs (Non-fungible Token) in complete detail.\n",
      "\n",
      "What is NFT: A Definitive Explainer (2021)\n",
      "\n",
      "Here, we have mentioned all the questions that people have in their minds regarding NFT.\n",
      "\n",
      "You can click on the table to find all the sections that we have covered in this article and click on the link to move to the corresponding section.\n",
      "\n",
      "Table of Contents\n",
      "\n",
      "NFTs Explained: What is NFT in Crypto?' metadata={'source': 'https://beebom.com/what-is-nft-explained/', 'title': 'NFTs Explained: What is an NFT and What is Its Use | Beebom', 'description': 'Wondering what is non fungible token? We have explained NFTs, and tell you how you can buy, make and sell your own NFTs easily.', 'language': 'en-US'}\n",
      "*****************\n",
      "page_content='Before anything, let me give you a clear-headed definition of NFT and what it stands for.\n",
      "\n",
      "NFT stands for Non-fungible Token.\n",
      "\n",
      "Fungible by its very definition means something that is mutually interchangeable.\n",
      "\n",
      "For example, you can exchange a $10 note with another $10 note or exchange it with two $5 notes.\n",
      "\n",
      "In both cases, the value remains the same and you will have no problem exchanging the money.\n",
      "\n",
      "Here, money is a fungible item as it can be exchanged without diminishing the value.\n",
      "\n",
      "So when we say Non-fungible, it means something that can’t be exchanged with a similar item of similar value.\n",
      "\n",
      "To give you a simple example, if you want to replace the Mona Lisa painting kept in Louvre, Paris with another printout of the same image, will it be the same?\n",
      "\n",
      "And more importantly, will it hold the same value?\n",
      "\n",
      "The answer is no.\n",
      "\n",
      "Here, the incomparable Mona Lisa painting is a Non-fungible item that can’t be exchanged with another item having an identical appearance.\n",
      "\n",
      "Uniqueness is the key here.' metadata={'source': 'https://beebom.com/what-is-nft-explained/', 'title': 'NFTs Explained: What is an NFT and What is Its Use | Beebom', 'description': 'Wondering what is non fungible token? We have explained NFTs, and tell you how you can buy, make and sell your own NFTs easily.', 'language': 'en-US'}\n",
      "*****************\n",
      "page_content='A Non-fungible item is, therefore, something that is unique and authentic.\n",
      "\n",
      "Something that holds value for its authenticity.\n",
      "\n",
      "Now we come to the token part.\n",
      "\n",
      "A token is a 40-digit string of words and numbers that hold the information of the original artist who created the masterpiece, the current owner of the item (it can only be one), and the current price of the item.\n",
      "\n",
      "This storage of information is backed by Blockchain technology which can’t be altered by any means due to its decentralized system.\n",
      "\n",
      "Finally, when you put all three words together, NFT means an incorruptible token that holds ownership information about an item that is unique and authentic.\n",
      "\n",
      "NFT is basically a certificate of ownership or authenticity.\n",
      "\n",
      "This is the general definition of NFT, but if you want to get a complete idea about NFTs then you need to understand the concept with digital art as an example, which I have covered in the next section.\n",
      "\n",
      "What is the Use of NFT in Digital Art?' metadata={'source': 'https://beebom.com/what-is-nft-explained/', 'title': 'NFTs Explained: What is an NFT and What is Its Use | Beebom', 'description': 'Wondering what is non fungible token? We have explained NFTs, and tell you how you can buy, make and sell your own NFTs easily.', 'language': 'en-US'}\n",
      "*****************\n",
      "page_content='Many must be wondering what is the use of NFT in digital art and why is there so much hullabaloo about it?\n",
      "\n",
      "Well, as I explained in the above section that NFT is a signature of authenticity and it provides that authentic stamp of approval on the web while dealing with digital arts.\n",
      "\n",
      "We all know, in today’s world anything can be tampered with and people can pass off others’ work as theirs.\n",
      "\n",
      "Basically, on the web, it’s next to impossible to find the original creator of an artwork and that’s where NFTs come into the play.\n",
      "\n",
      "NFTs pretty much aim to bring art collecting into the digital age with completely digital art that is sold as NFTs.\n",
      "\n",
      "NFT provides a means for digital creators to put their work in the public domain without having to worry about proving ownership or authenticity.\n",
      "\n",
      "Digital artists can generate NFT for their original work and auction it off to another person while maintaining the information about the original creator, the current owner, and the current value.' metadata={'source': 'https://beebom.com/what-is-nft-explained/', 'title': 'NFTs Explained: What is an NFT and What is Its Use | Beebom', 'description': 'Wondering what is non fungible token? We have explained NFTs, and tell you how you can buy, make and sell your own NFTs easily.', 'language': 'en-US'}\n",
      "*****************\n",
      "page_content='The best part about NFT is that as many times the digital art is sold to another person, a share of the value will be transferred to the original creator.\n",
      "\n",
      "This makes NFT a great proposition to digital artists for earning money through their artwork.\n",
      "\n",
      "Taking a real-life example, Christie’s — the famous British auction house for paintings — recently auctioned a digital art in NFT.\n",
      "\n",
      "The digital art is called “Everydays – The First 5000 Days” was made by Mike Winkelmann who goes by the name of Beeple.\n",
      "\n",
      "The digital image was sold for $69 million and the buyer got a 319MB digital file (JPEG image) along with the NFT (token) which holds the information about its ownership, et al.\n",
      "\n",
      "The thing about NFT is that it’s no longer just limited to paintings, but now people are using it to buy digital collectibles of all kinds.\n",
      "\n",
      "For example, Jack Dorsey has started an NFT auction about his first tweet which currently holds the value of $2.5 million.' metadata={'source': 'https://beebom.com/what-is-nft-explained/', 'title': 'NFTs Explained: What is an NFT and What is Its Use | Beebom', 'description': 'Wondering what is non fungible token? We have explained NFTs, and tell you how you can buy, make and sell your own NFTs easily.', 'language': 'en-US'}\n"
     ]
    }
   ],
   "source": [
    "print(docs[0])\n",
    "print(\"*****************\")\n",
    "print(docs[1])\n",
    "print(\"*****************\")\n",
    "print(docs[2])\n",
    "print(\"*****************\")\n",
    "print(docs[3])\n",
    "print(\"*****************\")\n",
    "print(docs[4])"
   ]
  },
  {
   "cell_type": "code",
   "execution_count": 21,
   "metadata": {},
   "outputs": [],
   "source": [
    "# Before executing the following code, make sure to have\n",
    "# your OpenAl key saved in the “OPENAI_API_KEY” environment variable.\n",
    "embed = OpenAIEmbeddings(\n",
    "    model=\"text-embedding-3-small\", deployment=\"text-embedding-3-small\"\n",
    ")"
   ]
  },
  {
   "cell_type": "code",
   "execution_count": 22,
   "metadata": {},
   "outputs": [
    {
     "data": {
      "text/plain": [
       "OpenAIEmbeddings(client=<openai.resources.embeddings.Embeddings object at 0x77fc7e636fc0>, async_client=<openai.resources.embeddings.AsyncEmbeddings object at 0x77fc7f0b2720>, model='text-embedding-3-small', dimensions=None, deployment='text-embedding-3-small', openai_api_version='', openai_api_base=None, openai_api_type='', openai_proxy='', embedding_ctx_length=8191, openai_api_key=SecretStr('**********'), openai_organization=None, allowed_special=None, disallowed_special=None, chunk_size=1000, max_retries=2, request_timeout=None, headers=None, tiktoken_enabled=True, tiktoken_model_name=None, show_progress_bar=False, model_kwargs={}, skip_empty=False, default_headers=None, default_query=None, retry_min_seconds=4, retry_max_seconds=20, http_client=None, http_async_client=None, check_embedding_ctx_length=True)"
      ]
     },
     "execution_count": 22,
     "metadata": {},
     "output_type": "execute_result"
    }
   ],
   "source": [
    "embed"
   ]
  },
  {
   "cell_type": "code",
   "execution_count": 24,
   "metadata": {},
   "outputs": [
    {
     "name": "stdout",
     "output_type": "stream",
     "text": [
      "Local FAISS index created and saved.\n"
     ]
    }
   ],
   "source": [
    "# Import necessary modules\n",
    "from langchain.vectorstores import FAISS\n",
    "from langchain.docstore.document import Document\n",
    "\n",
    "# Create a FAISS vector store\n",
    "db = FAISS.from_documents(docs, embed)\n",
    "\n",
    "# Save the vector store locally\n",
    "db.save_local(\"faiss_index\")\n",
    "\n",
    "print(\"Local FAISS index created and saved.\")\n",
    "\n",
    "# To load the index later, you can use:\n",
    "# db = FAISS.load_local(\"faiss_index\", embeddings)\n",
    "\n",
    "# Note: Make sure your system has CUDA installed and configured properly to use faiss-gpu\n",
    "# If you encounter issues, you may need to fall back to faiss-cpu"
   ]
  },
  {
   "cell_type": "code",
   "execution_count": 28,
   "metadata": {},
   "outputs": [
    {
     "name": "stdout",
     "output_type": "stream",
     "text": [
      "length of docs: 4\n",
      "{'source': 'https://beebom.com/how-check-disk-usage-linux/', 'title': 'How to Check Disk Usage in Linux (4 Methods) | Beebom', 'description': 'In this guide, we show you the best ways to check disk usage on Linux using GUI tools as well as CLI commands like du and df.', 'language': 'en-US'}\n",
      "Home > Tech > How to Check Disk Usage in Linux (4 Methods)\n",
      "\n",
      "How to Check Disk Usage in Linux (4 Methods)\n",
      "\n",
      "Beebom Staff\n",
      "\n",
      "Updated: December 19, 2023\n",
      "\n",
      "Comments 0\n",
      "\n",
      "Share\n",
      "\n",
      "Copied\n",
      "\n",
      "There may be times when you need to download some important files or transfer some photos to your Linux system, but face a problem of insufficient disk space.\n",
      "\n",
      "You head over to your file manager to delete the large files which you no longer require, but you have no clue which of them are occupying most of your disk space.\n",
      "\n",
      "In this article, we will show some easy methods to check disk usage in Linux from both the terminal and the GUI application.\n",
      "\n",
      "Table of Contents\n",
      "\n",
      "Check Disk Space Using the df Command\n",
      "\n",
      "In Linux, there are many commands to check disk usage, the most common being the df command.\n",
      "\n",
      "The df stands for “Disk Filesystem” in the command, which is a handy way to check the current disk usage and the available disk space in Linux.\n",
      "*****************\n",
      "{'source': 'https://beebom.com/how-check-disk-usage-linux/', 'title': 'How to Check Disk Usage in Linux (4 Methods) | Beebom', 'description': 'In this guide, we show you the best ways to check disk usage on Linux using GUI tools as well as CLI commands like du and df.', 'language': 'en-US'}\n",
      "Check Disk Usage Using GUI\n",
      "\n",
      "The command line output for various disk usage commands can be hard for some people to understand.\n",
      "\n",
      "So there are some GUI alternatives that make the task of monitoring disk usage easy.\n",
      "\n",
      "Some common GUI tools to monitor disk usage are the GDU Disk Usage Analyzer and the Gnome Disks Tool,which can be easily installed using the following command:\n",
      "\n",
      "Installing disk usage analyzer:\n",
      "\n",
      "sudo snap install gdu-disk-usage-analyzer\n",
      "\n",
      "Installing disk-utility tool:\n",
      "\n",
      "sudo apt-get -y install gnome-disk-utility\n",
      "\n",
      "Check Disk Usage Using Gnome Disk Tool\n",
      "\n",
      "The Gnome disk utility tool is generally used to format storage partitions to a specific type.\n",
      "\n",
      "In the default view, all the storage partitions are shown.\n",
      "\n",
      "To know details about a partition such as the device name, file system type, available space, and more, you need to click on the partition’s name.\n",
      "\n",
      "The disk utility tool is a useful tool, but you can lose all your important data if used carelessly.\n",
      "*****************\n",
      "{'source': 'https://beebom.com/how-check-disk-usage-linux/', 'title': 'How to Check Disk Usage in Linux (4 Methods) | Beebom', 'description': 'In this guide, we show you the best ways to check disk usage on Linux using GUI tools as well as CLI commands like du and df.', 'language': 'en-US'}\n",
      "Check Disk Usage Using Disk Usage Analyzer Tool\n",
      "\n",
      "Monitoring disk usage is much easier in GUI using the Disk Usage Analyzer Tool as compared to CLI.\n",
      "\n",
      "After installing this tool, access it via the Applications menu and then follow the steps below:\n",
      "\n",
      "1.\n",
      "\n",
      "When you first open the Disk Usage Analyzer tool, it will show all the storage partitions connected to your system along with your Home directory.\n",
      "\n",
      "2.\n",
      "\n",
      "To know about the disk usage of any device, click on the device name.\n",
      "\n",
      "It will scan the entire device and display a ring chart of the disk occupancy for all the folders.\n",
      "\n",
      "When you hover over any portion of the graph, you will see which folders are occupying the most disk space.\n",
      "\n",
      "Cleanup Disk using Disk Usage Analyzer\n",
      "\n",
      "After analyzing different locations of the file system, you might want to delete some of the storage hogging files.\n",
      "\n",
      "The Disk Usage Analyzer Tool also doubles up as a cleanup tool for the files or folders you want to delete.\n",
      "\n",
      "To delete any files or folders:\n",
      "\n",
      "1.\n",
      "*****************\n",
      "{'source': 'https://beebom.com/how-check-disk-usage-linux/', 'title': 'How to Check Disk Usage in Linux (4 Methods) | Beebom', 'description': 'In this guide, we show you the best ways to check disk usage on Linux using GUI tools as well as CLI commands like du and df.', 'language': 'en-US'}\n",
      "The syntax to use the du command is:\n",
      "\n",
      "du <option> <file>\n",
      "\n",
      "The options to use with the du command are:\n",
      "\n",
      "Display Disk Usage in Human Readable Format\n",
      "\n",
      "To display the sizes in human readable format like in megabytes, gigabytes, etc.\n",
      "\n",
      "instead of bytes, use the -h flag via the command syntax below:\n",
      "\n",
      "du -h\n",
      "\n",
      "Display Disk Usage for a Particular Directory\n",
      "\n",
      "The du command shows the disk usage for all folders.\n",
      "\n",
      "But you can view the disk usage for a specific folder, using the -s flag with the basic command as under:\n",
      "\n",
      "du -s -h <directory_name>\n",
      "\n",
      "Compare Disk Usage of Two Directories\n",
      "\n",
      "With the du command, you can also compare the disk usage of two or more directories as shown below:\n",
      "\n",
      "du <options> <directory_1> <directory_2>\n",
      "\n",
      "Clean Disk Space Using the Command Line\n",
      "\n",
      "You can use either of the du and the df commands in combination with other Linux commands to list out the files and directories occupying the most space.\n"
     ]
    }
   ],
   "source": [
    "#let's see the top relevant documents to a specific quer\n",
    "query = \"how to check disk usage in linux?\"\n",
    "\n",
    "docs = db.similarity_search(query)\n",
    "print(f\"length of docs: {len(docs)}\"\n",
    "print(docs[0].metadata)\n",
    "print(docs[0].page_content)\n",
    "print(\"*****************\")\n",
    "print(docs[1].metadata)\n",
    "print(docs[1].page_content)\n",
    "print(\"*****************\")\n",
    "print(docs[2].metadata)\n",
    "print(docs[2].page_content)\n",
    "print(\"*****************\")\n",
    "print(docs[3].metadata)\n",
    "print(docs[3].page_content)"
   ]
  },
  {
   "cell_type": "code",
   "execution_count": 29,
   "metadata": {},
   "outputs": [],
   "source": [
    "# let's write a prompt for a customer support chatbot that\n",
    "\n",
    "# answer questions using information extracted from our db\n",
    "\n",
    "template = \"\"\"You are an exceptional customer support chatbot that gently answer questions.\n",
    "You know the following context information.\n",
    "\n",
    "{chunks_formatted}\n",
    "\n",
    "Answer to the following question from a customer. Use only information from the previous\n",
    "context information. Do not invent stuff.\n",
    "\n",
    "Question: {query}\n",
    "\n",
    "Answer:\"\"\"\n",
    "\n",
    "prompt = PromptTemplate(\n",
    "    input_variables=[\"chunks_formatted\", \"query\"],\n",
    "    template=template,\n",
    ")"
   ]
  },
  {
   "cell_type": "code",
   "execution_count": 32,
   "metadata": {},
   "outputs": [],
   "source": [
    "# the full pipeline\n",
    "\n",
    "# user question\n",
    "\n",
    "query = \"How to check disk usage in linux?\"\n",
    "\n",
    "# retrieve relevant chunks\n",
    "docs = db.similarity_search(query)\n",
    "\n",
    "retrieved_chunks = [doc.page_content for doc in docs]"
   ]
  },
  {
   "cell_type": "code",
   "execution_count": 42,
   "metadata": {},
   "outputs": [
    {
     "name": "stdout",
     "output_type": "stream",
     "text": [
      "To check disk usage in Linux, you have several methods available, both through the terminal and using GUI applications. Here are some options:\n",
      "\n",
      "1. **Using the df Command**: This is a common command to check current disk usage and available space. You can use it with the following syntax:\n",
      "   - To display disk usage in a human-readable format, use: `df -h`\n",
      "   - To view the disk usage of a particular file system type, use: `df -t <file_system_type>`\n",
      "\n",
      "2. **Using the du Command**: If you want to check the disk usage for individual files and directories, you can use the `du` command, which stands for \"disk usage.\"\n",
      "\n",
      "3. **Using GUI Tools**: If you prefer a graphical interface, you can use tools like the Disk Usage Analyzer or the Gnome Disks Tool. To install the Disk Usage Analyzer, you can run:\n",
      "   - `sudo snap install gdu-disk-usage-analyzer`\n",
      "   - For the Gnome Disks Tool, use: `sudo apt-get -y install gnome-disk-utility`\n",
      "\n",
      "   After installing the Disk Usage Analyzer, you can access it via the Applications menu. It will show all storage partitions and allow you to click on a device name to see a visual representation of disk occupancy.\n",
      "\n",
      "These methods will help you monitor and manage your disk space effectively.\n"
     ]
    }
   ],
   "source": [
    "# format the prompt\n",
    "\n",
    "chunks_formatted = \"\\n\\n\".join(retrieved_chunks)\n",
    "\n",
    "prompt_formatted = prompt.format(chunks_formatted=chunks_formatted, query=query)\n",
    "# generate answer\n",
    "\n",
    "llm = ChatOpenAI(model=\"gpt-4o-mini\", temperature=0)\n",
    "\n",
    "answer = llm.invoke(prompt_formatted)\n",
    "\n",
    "print(answer.content.format())"
   ]
  },
  {
   "cell_type": "code",
   "execution_count": 43,
   "metadata": {},
   "outputs": [
    {
     "data": {
      "text/plain": [
       "'You are an exceptional customer support chatbot that gently answer questions.\\nYou know the following context information.\\n\\nHome > Tech > How to Check Disk Usage in Linux (4 Methods)\\n\\nHow to Check Disk Usage in Linux (4 Methods)\\n\\nBeebom Staff\\n\\nUpdated: December 19, 2023\\n\\nComments 0\\n\\nShare\\n\\nCopied\\n\\nThere may be times when you need to download some important files or transfer some photos to your Linux system, but face a problem of insufficient disk space.\\n\\nYou head over to your file manager to delete the large files which you no longer require, but you have no clue which of them are occupying most of your disk space.\\n\\nIn this article, we will show some easy methods to check disk usage in Linux from both the terminal and the GUI application.\\n\\nTable of Contents\\n\\nCheck Disk Space Using the df Command\\n\\nIn Linux, there are many commands to check disk usage, the most common being the df command.\\n\\nThe df stands for “Disk Filesystem” in the command, which is a handy way to check the current disk usage and the available disk space in Linux.\\n\\nCheck Disk Usage Using GUI\\n\\nThe command line output for various disk usage commands can be hard for some people to understand.\\n\\nSo there are some GUI alternatives that make the task of monitoring disk usage easy.\\n\\nSome common GUI tools to monitor disk usage are the GDU Disk Usage Analyzer and the Gnome Disks Tool,which can be easily installed using the following command:\\n\\nInstalling disk usage analyzer:\\n\\nsudo snap install gdu-disk-usage-analyzer\\n\\nInstalling disk-utility tool:\\n\\nsudo apt-get -y install gnome-disk-utility\\n\\nCheck Disk Usage Using Gnome Disk Tool\\n\\nThe Gnome disk utility tool is generally used to format storage partitions to a specific type.\\n\\nIn the default view, all the storage partitions are shown.\\n\\nTo know details about a partition such as the device name, file system type, available space, and more, you need to click on the partition’s name.\\n\\nThe disk utility tool is a useful tool, but you can lose all your important data if used carelessly.\\n\\nCheck Disk Usage Using Disk Usage Analyzer Tool\\n\\nMonitoring disk usage is much easier in GUI using the Disk Usage Analyzer Tool as compared to CLI.\\n\\nAfter installing this tool, access it via the Applications menu and then follow the steps below:\\n\\n1.\\n\\nWhen you first open the Disk Usage Analyzer tool, it will show all the storage partitions connected to your system along with your Home directory.\\n\\n2.\\n\\nTo know about the disk usage of any device, click on the device name.\\n\\nIt will scan the entire device and display a ring chart of the disk occupancy for all the folders.\\n\\nWhen you hover over any portion of the graph, you will see which folders are occupying the most disk space.\\n\\nCleanup Disk using Disk Usage Analyzer\\n\\nAfter analyzing different locations of the file system, you might want to delete some of the storage hogging files.\\n\\nThe Disk Usage Analyzer Tool also doubles up as a cleanup tool for the files or folders you want to delete.\\n\\nTo delete any files or folders:\\n\\n1.\\n\\nThe syntax for the df command in Linux is as follows:\\n\\ndf <options> <file_system>\\n\\nThe options to use with the df command are:\\n\\nDisplay Disk Usage in Human Readable Format\\n\\nThe df command shows the sizes in bytes, which may be hard for some people to read.\\n\\nTo see file sizes in a human-readable format such as megabytes, gigabytes, etc., then use the -h flag.Here’s what the syntax looks like:\\n\\ndf -h\\n\\nDisplay Disk Occupancy of a Particular Type\\n\\nYou can also view the disk usage of a particular file system type using the -t flag as shown below:\\n\\ndf -t <file_system_type>\\n\\nCheck Disk Usage using the du Command\\n\\nThe df command only shows the disk usage for the entire file system and not for individual files and directories.\\n\\nTo view the disk usage for individual files and directories, use the du command.\\n\\nHere, du stands for “disk usage“.\\n\\nAnswer to the following question from a customer. Use only information from the previous\\ncontext information. Do not invent stuff.\\n\\nQuestion: How to check disk usage in linux?\\n\\nAnswer:'"
      ]
     },
     "execution_count": 43,
     "metadata": {},
     "output_type": "execute_result"
    }
   ],
   "source": [
    "prompt_formatted"
   ]
  },
  {
   "cell_type": "code",
   "execution_count": 41,
   "metadata": {},
   "outputs": [
    {
     "name": "stdout",
     "output_type": "stream",
     "text": [
      "To check disk usage in Linux, you have several methods available, both through the terminal and using GUI applications. Here are some options:\n",
      "\n",
      "1. **Using the df Command**: This is a common command to check current disk usage and available space. You can use it with the following syntax:\n",
      "   - To display disk usage in a human-readable format, use: `df -h`\n",
      "   - To view the disk usage of a particular file system type, use: `df -t <file_system_type>`\n",
      "\n",
      "2. **Using the du Command**: If you want to check the disk usage for individual files and directories, you can use the `du` command, which stands for \"disk usage.\"\n",
      "\n",
      "3. **Using GUI Tools**: If you prefer a graphical interface, you can use tools like the Disk Usage Analyzer or the Gnome Disks Tool. To install the Disk Usage Analyzer, you can run:\n",
      "   ```\n",
      "   sudo snap install gdu-disk-usage-analyzer\n",
      "   ```\n",
      "   For the Gnome Disks Tool, use:\n",
      "   ```\n",
      "   sudo apt-get -y install gnome-disk-utility\n",
      "   ```\n",
      "   After installation, you can access these tools from the Applications menu to easily monitor disk usage and visualize which folders are taking up the most space.\n",
      "\n",
      "These methods should help you effectively check and manage your disk usage in Linux!\n"
     ]
    }
   ],
   "source": [
    "print(answer.content.format())"
   ]
  },
  {
   "cell_type": "code",
   "execution_count": 49,
   "metadata": {},
   "outputs": [
    {
     "name": "stdout",
     "output_type": "stream",
     "text": [
      "You are an exceptional customer support chatbot that gently answers questions.\n",
      "You know the following context information.\n",
      "\n",
      "Home > Tech > How to Check Disk Usage in Linux (4 Methods)\n",
      "\n",
      "How to Check Disk Usage in Linux (4 Methods)\n",
      "\n",
      "Beebom Staff\n",
      "\n",
      "Updated: December 19, 2023\n",
      "\n",
      "Comments 0\n",
      "\n",
      "Share\n",
      "\n",
      "Copied\n",
      "\n",
      "There may be times when you need to download some important files or transfer some photos to your Linux system, but face a problem of insufficient disk space.\n",
      "\n",
      "You head over to your file manager to delete the large files which you no longer require, but you have no clue which of them are occupying most of your disk space.\n",
      "\n",
      "In this article, we will show some easy methods to check disk usage in Linux from both the terminal and the GUI application.\n",
      "\n",
      "Table of Contents\n",
      "\n",
      "Check Disk Space Using the df Command\n",
      "\n",
      "In Linux, there are many commands to check disk usage, the most common being the df command.\n",
      "\n",
      "The df stands for “Disk Filesystem” in the command, which is a handy way to check the current disk usage and the available disk space in Linux.\n",
      "\n",
      "Check Disk Usage Using GUI\n",
      "\n",
      "The command line output for various disk usage commands can be hard for some people to understand.\n",
      "\n",
      "So there are some GUI alternatives that make the task of monitoring disk usage easy.\n",
      "\n",
      "Some common GUI tools to monitor disk usage are the GDU Disk Usage Analyzer and the Gnome Disks Tool,which can be easily installed using the following command:\n",
      "\n",
      "Installing disk usage analyzer:\n",
      "\n",
      "sudo snap install gdu-disk-usage-analyzer\n",
      "\n",
      "Installing disk-utility tool:\n",
      "\n",
      "sudo apt-get -y install gnome-disk-utility\n",
      "\n",
      "Check Disk Usage Using Gnome Disk Tool\n",
      "\n",
      "The Gnome disk utility tool is generally used to format storage partitions to a specific type.\n",
      "\n",
      "In the default view, all the storage partitions are shown.\n",
      "\n",
      "To know details about a partition such as the device name, file system type, available space, and more, you need to click on the partition’s name.\n",
      "\n",
      "The disk utility tool is a useful tool, but you can lose all your important data if used carelessly.\n",
      "\n",
      "Check Disk Usage Using Disk Usage Analyzer Tool\n",
      "\n",
      "Monitoring disk usage is much easier in GUI using the Disk Usage Analyzer Tool as compared to CLI.\n",
      "\n",
      "After installing this tool, access it via the Applications menu and then follow the steps below:\n",
      "\n",
      "1.\n",
      "\n",
      "When you first open the Disk Usage Analyzer tool, it will show all the storage partitions connected to your system along with your Home directory.\n",
      "\n",
      "2.\n",
      "\n",
      "To know about the disk usage of any device, click on the device name.\n",
      "\n",
      "It will scan the entire device and display a ring chart of the disk occupancy for all the folders.\n",
      "\n",
      "When you hover over any portion of the graph, you will see which folders are occupying the most disk space.\n",
      "\n",
      "Cleanup Disk using Disk Usage Analyzer\n",
      "\n",
      "After analyzing different locations of the file system, you might want to delete some of the storage hogging files.\n",
      "\n",
      "The Disk Usage Analyzer Tool also doubles up as a cleanup tool for the files or folders you want to delete.\n",
      "\n",
      "To delete any files or folders:\n",
      "\n",
      "1.\n",
      "\n",
      "The syntax for the df command in Linux is as follows:\n",
      "\n",
      "df <options> <file_system>\n",
      "\n",
      "The options to use with the df command are:\n",
      "\n",
      "Display Disk Usage in Human Readable Format\n",
      "\n",
      "The df command shows the sizes in bytes, which may be hard for some people to read.\n",
      "\n",
      "To see file sizes in a human-readable format such as megabytes, gigabytes, etc., then use the -h flag.Here’s what the syntax looks like:\n",
      "\n",
      "df -h\n",
      "\n",
      "Display Disk Occupancy of a Particular Type\n",
      "\n",
      "You can also view the disk usage of a particular file system type using the -t flag as shown below:\n",
      "\n",
      "df -t <file_system_type>\n",
      "\n",
      "Check Disk Usage using the du Command\n",
      "\n",
      "The df command only shows the disk usage for the entire file system and not for individual files and directories.\n",
      "\n",
      "To view the disk usage for individual files and directories, use the du command.\n",
      "\n",
      "Here, du stands for “disk usage“.\n",
      "\n",
      "Answer the following question from a customer. Use only information from the previous\n",
      "context information. Do not invent stuff.\n",
      "\n",
      "Question: How to check disk usage in linux?\n",
      "\n",
      "Answer:\n"
     ]
    }
   ],
   "source": [
    "from langchain.schema import HumanMessage\n",
    "template = \"\"\"You are an exceptional customer support chatbot that gently answers questions.\n",
    "You know the following context information.\n",
    "\n",
    "{chunks_formatted}\n",
    "\n",
    "Answer the following question from a customer. Use only information from the previous\n",
    "context information. Do not invent stuff.\n",
    "\n",
    "Question: {query}\n",
    "\n",
    "Answer:\"\"\"\n",
    "\n",
    "prompt = PromptTemplate(\n",
    "    input_variables=[\"chunks_formatted\", \"query\"],\n",
    "    template=template,\n",
    ")\n",
    "\n",
    "# Format the prompt with the context and query\n",
    "prompt_formatted = prompt.format(chunks_formatted=chunks_formatted, query=query)\n",
    "\n",
    "# Initialize the chat model\n",
    "llm = ChatOpenAI(model=\"gpt-4o-mini\", temperature=0)\n",
    "\n",
    "# Create the message object\n",
    "message = HumanMessage(content=prompt_formatted)\n",
    "print(message.content.format())"
   ]
  },
  {
   "cell_type": "code",
   "execution_count": 50,
   "metadata": {},
   "outputs": [
    {
     "name": "stdout",
     "output_type": "stream",
     "text": [
      "To check disk usage in Linux, you have several methods available, both through the terminal and using GUI applications. Here are some options:\n",
      "\n",
      "1. **Using the df Command**: \n",
      "   - The `df` command stands for \"Disk Filesystem\" and is a common way to check current disk usage and available space. You can use it with the `-h` flag to display sizes in a human-readable format (e.g., megabytes, gigabytes) by running:\n",
      "     ```\n",
      "     df -h\n",
      "     ```\n",
      "\n",
      "2. **Using the du Command**: \n",
      "   - If you want to check the disk usage for individual files and directories, you can use the `du` command, which stands for \"disk usage.\" This command provides detailed information about the space used by specific files and directories.\n",
      "\n",
      "3. **Using GUI Tools**: \n",
      "   - If you prefer a graphical interface, you can use tools like the GDU Disk Usage Analyzer or the Gnome Disks Tool. You can install them using the following commands:\n",
      "     - For GDU Disk Usage Analyzer:\n",
      "       ```\n",
      "       sudo snap install gdu-disk-usage-analyzer\n",
      "       ```\n",
      "     - For Gnome Disks Tool:\n",
      "       ```\n",
      "       sudo apt-get -y install gnome-disk-utility\n",
      "       ```\n",
      "\n",
      "4. **Using the Disk Usage Analyzer Tool**: \n",
      "   - After installing the Disk Usage Analyzer Tool, you can access it via the Applications menu. It will show all storage partitions and your Home directory. Click on a device name to scan it and view a ring chart of disk occupancy, allowing you to see which folders are using the most space.\n",
      "\n",
      "These methods should help you effectively check and manage disk usage on your Linux system!\n"
     ]
    }
   ],
   "source": [
    "# Generate the answer\n",
    "answer = llm([message])\n",
    "\n",
    "# Print the answer\n",
    "print(answer.content)"
   ]
  },
  {
   "cell_type": "markdown",
   "metadata": {},
   "source": [
    "### Now let's try with a different embedding model, an open source one"
   ]
  },
  {
   "cell_type": "code",
   "execution_count": 7,
   "metadata": {},
   "outputs": [],
   "source": [
    "from langchain_openai import OpenAIEmbeddings, ChatOpenAI\n",
    "from langchain.text_splitter import NLTKTextSplitter\n",
    "from langchain_community.document_loaders import SeleniumURLLoader\n",
    "from langchain.prompts import PromptTemplate"
   ]
  },
  {
   "cell_type": "code",
   "execution_count": 2,
   "metadata": {},
   "outputs": [],
   "source": [
    "\n",
    "urls = [\n",
    "    \"https://beebom.com/what-is-nft-explained/\",\n",
    "    \"https://beebom.com/how-delete-spotify-account/\",\n",
    "    \"https://beebom.com/how-download-gif-twitter/\",\n",
    "    \"https://beebom.com/how-use-chatgpt-linux-terminal/\",\n",
    "    \"https://beebom.com/how-delete-spotify-account/\",\n",
    "    \"https://beebom.com/how-save-instagram-story-with-music/\",\n",
    "    \"https://beebom.com/how-install-pip-windows/\",\n",
    "    \"https://beebom.com/how-check-disk-usage-linux/\",\n",
    "]"
   ]
  },
  {
   "cell_type": "code",
   "execution_count": 8,
   "metadata": {},
   "outputs": [
    {
     "name": "stderr",
     "output_type": "stream",
     "text": [
      "[nltk_data] Downloading package punkt_tab to /home/carlos/nltk_data...\n",
      "[nltk_data]   Package punkt_tab is already up-to-date!\n",
      "[nltk_data] Downloading package averaged_perceptron_tagger_eng to\n",
      "[nltk_data]     /home/carlos/nltk_data...\n",
      "[nltk_data]   Package averaged_perceptron_tagger_eng is already up-to-\n",
      "[nltk_data]       date!\n",
      "Created a chunk of size 1068, which is longer than the specified 1000\n"
     ]
    }
   ],
   "source": [
    "# use the selenium scraper to load the documents\n",
    "import nltk\n",
    "nltk.download('punkt_tab')\n",
    "nltk.download('averaged_perceptron_tagger_eng')\n",
    "loader = SeleniumURLLoader(urls=urls)\n",
    "\n",
    "docs_not_splitted = loader.load()\n",
    "\n",
    "# we split the documents into smaller chunks\n",
    "\n",
    "text_splitter = NLTKTextSplitter(chunk_size=1000, chunk_overlap=0)\n",
    "docs = text_splitter.split_documents(docs_not_splitted)"
   ]
  },
  {
   "cell_type": "code",
   "execution_count": 22,
   "metadata": {},
   "outputs": [],
   "source": [
    "from langchain_huggingface import HuggingFacePipeline\n",
    "from langchain_huggingface import HuggingFaceEmbeddings\n",
    "import sentence_transformers\n",
    "\n",
    "model_name = \"sentence-transformers/all-mpnet-base-v2\"\n",
    "\n",
    "model_kwargs = {'device': 'cpu'}\n",
    "\n",
    "hf = HuggingFaceEmbeddings(model_name=model_name, model_kwargs=model_kwargs)\n",
    "documents = [\"King\", \"Queen\", \"Man\", \"Woman\"]\n",
    "doc_embeddings = hf.embed_documents(documents)"
   ]
  },
  {
   "cell_type": "code",
   "execution_count": 36,
   "metadata": {},
   "outputs": [
    {
     "name": "stdout",
     "output_type": "stream",
     "text": [
      "Man\n"
     ]
    }
   ],
   "source": [
    "from sklearn.metrics.pairwise import cosine_similarity\n",
    "import numpy as np\n",
    "# Find the most similar document\n",
    "arr = np.array(doc_embeddings[0]) - np.array(doc_embeddings[2]) + np.array(doc_embeddings[3])\n",
    "arr_normalized = arr / np.sqrt(np.sum(arr**2))\n",
    "similarities = -cosine_similarity([arr_normalized], doc_embeddings)\n",
    "most_similar_index = np.argmax(similarities)\n",
    "most_similar_document = documents[most_similar_index]\n",
    "print(most_similar_document)"
   ]
  },
  {
   "cell_type": "code",
   "execution_count": 35,
   "metadata": {},
   "outputs": [
    {
     "data": {
      "text/plain": [
       "array([[ 0.63691544,  0.50925241, -0.25280194,  0.58713881]])"
      ]
     },
     "execution_count": 35,
     "metadata": {},
     "output_type": "execute_result"
    }
   ],
   "source": [
    "similarities"
   ]
  },
  {
   "cell_type": "code",
   "execution_count": 2,
   "metadata": {},
   "outputs": [
    {
     "name": "stdout",
     "output_type": "stream",
     "text": [
      "Text: Hello from Cohere!\n",
      "Embedding: [0.234375, 0.50146484, -0.048797607, 0.13989258, -0.17980957]\n",
      "Text: Hallo von Cohere!\n",
      "Embedding: [0.10235596, 0.28344727, -0.050231934, 0.2368164, -0.071899414]\n",
      "Text: Bonjour de Cohere!\n",
      "Embedding: [0.15161133, 0.28100586, -0.057281494, 0.11730957, -0.043670654]\n",
      "Text: Hola desde Cohere!\n",
      "Embedding: [0.26733398, 0.4104004, -0.10748291, 0.25976562, -0.12878418]\n",
      "Text: Ola do Cohere!\n",
      "Embedding: [0.19580078, 0.22631836, -0.0647583, 0.10192871, -0.17895508]\n",
      "Text: Ciao da Cohere!\n",
      "Embedding: [0.11566162, 0.43310547, -0.025894165, 0.14526367, 0.070739746]\n"
     ]
    }
   ],
   "source": [
    "import cohere\n",
    "from langchain_cohere import CohereEmbeddings\n",
    "import os\n",
    "from dotenv import load_dotenv\n",
    "load_dotenv(dotenv_path='../.env')\n",
    "\n",
    "# Initialize the CohereEmbeddings object\n",
    "embeddings_object = CohereEmbeddings(\n",
    "      model=\"embed-multilingual-v2.0\",\n",
    "      cohere_api_key=os.getenv(\"COHERE_API_KEY\")\n",
    ")\n",
    "\n",
    "# Define a list of texts\n",
    "texts =[\n",
    "\"Hello from Cohere!\",\n",
    "\"Hallo von Cohere!\",\n",
    "\"Bonjour de Cohere!\",\n",
    "\"Hola desde Cohere!\",\n",
    "\"Ola do Cohere!\",\n",
    "\"Ciao da Cohere!\",\n",
    "]\n",
    "\n",
    "# Generate embeddings for the texts\n",
    "document_embeddings = embeddings_object.embed_documents(texts)\n",
    "# Print the embeddings\n",
    "for text, embedding in zip(texts, document_embeddings):\n",
    "      print(f\"Text: {text}\")\n",
    "      print(f\"Embedding: {embedding[:5]}\") # print first 5 dimensions of-"
   ]
  }
 ],
 "metadata": {
  "kernelspec": {
   "display_name": "ragbook",
   "language": "python",
   "name": "python3"
  },
  "language_info": {
   "codemirror_mode": {
    "name": "ipython",
    "version": 3
   },
   "file_extension": ".py",
   "mimetype": "text/x-python",
   "name": "python",
   "nbconvert_exporter": "python",
   "pygments_lexer": "ipython3",
   "version": "3.12.4"
  }
 },
 "nbformat": 4,
 "nbformat_minor": 2
}
